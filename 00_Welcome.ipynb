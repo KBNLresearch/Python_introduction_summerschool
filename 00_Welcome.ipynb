{
 "cells": [
  {
   "cell_type": "markdown",
   "id": "b9082914",
   "metadata": {},
   "source": [
    "## Welcome to this Python introduction\n",
    "\n",
    "This introduction is developed to give relevant basic knowledge about Python and Jupyter Notebooks to the attendees of the KB summerschool. \n",
    "\n",
    "In this introduction you will be introduced to:\n",
    "* Jupyter Notebooks\n",
    "* Python basics\n",
    "* The Pandas package\n",
    "\n",
    "If you open this tutorial in [Binder](https://mybinder.org/v2/gh/KBNLresearch/Python_introduction_summerschool/HEAD), all notebooks contains interactive cells. We highly encourage you to run all code cells and play around with the content to see what happens. And furthermore, we encourage you to try the exercises! NB: Binder creates a Jupyter Lab enviroment for the interactive Notebooks, so it can take up to a few minutes to load. \n",
    "\n",
    "If you have any questions about this introduction, please contact us via mirjam.cuper@kb.nl.\n",
    "\n",
    "Acknowledgments:\n",
    "This Notebook contains part of the Python introduction courses from [Byte Sized code](https://github.com/arpit-omprakash/Byte-Sized-Code) and the [XML with Python course](https://kbnlresearch.github.io/xml-workshop/intro.html). \n",
    "If you want to learn more about Python, please check these website for  more in depth courses. \n",
    "\n"
   ]
  },
  {
   "cell_type": "code",
   "execution_count": null,
   "id": "c6e96991",
   "metadata": {},
   "outputs": [],
   "source": []
  }
 ],
 "metadata": {
  "kernelspec": {
   "display_name": "Python 3 (ipykernel)",
   "language": "python",
   "name": "python3"
  },
  "language_info": {
   "codemirror_mode": {
    "name": "ipython",
    "version": 3
   },
   "file_extension": ".py",
   "mimetype": "text/x-python",
   "name": "python",
   "nbconvert_exporter": "python",
   "pygments_lexer": "ipython3",
   "version": "3.9.12"
  }
 },
 "nbformat": 4,
 "nbformat_minor": 5
}
