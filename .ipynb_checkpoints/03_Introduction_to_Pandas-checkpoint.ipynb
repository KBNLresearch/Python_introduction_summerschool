{
 "cells": [
  {
   "cell_type": "markdown",
   "id": "df919ce0",
   "metadata": {},
   "source": [
    "# Introduction to Python\n",
    "\n",
    "This Notebook is a combination of parts of the Notebooks from **Muhammad Kareem, Byte Sized Code**"
   ]
  },
  {
   "cell_type": "markdown",
   "id": "b6845fc2",
   "metadata": {},
   "source": [
    "## What is pandas?\n",
    "\n",
    "Pandas is a powerful python module for data analysis and it has essential features for any data science project"
   ]
  },
  {
   "cell_type": "markdown",
   "id": "64980258",
   "metadata": {},
   "source": [
    "## Why use pandas?\n",
    "\n",
    "Pandas provide awesome features for data analysis and visualization with very few lines of code yet outstanding effect, Some of the major features it has are as follows :\n",
    "\n",
    "* Sorting out data and creating awesome insights on the data\n",
    "* Beautiful plots on the generated data to provide a visualizaed view of the data for non - programmers\n",
    "* Indexing and sorting out values in data\n",
    "* Handling big data (data as big as millions of entries)\n",
    "* Cleaning up data and handling missing values\n"
   ]
  },
  {
   "cell_type": "markdown",
   "id": "85f6eb6f",
   "metadata": {},
   "source": [
    "`pip install pandas` for regular installation and refer to the documentations of pandas if you're using any virtual environment"
   ]
  },
  {
   "cell_type": "markdown",
   "id": "27b4b726",
   "metadata": {},
   "source": [
    "## Installing pandas"
   ]
  },
  {
   "cell_type": "markdown",
   "id": "d91cb775",
   "metadata": {},
   "source": [
    "Panas is intalled using the command `pip install pandas` for regular installation and refer to the documentations of pandas if you're using any virtual environment.\n",
    "\n",
    "If this Notebooks is used in Binder, pandas is already installed. \n"
   ]
  },
  {
   "cell_type": "markdown",
   "id": "e7edf452",
   "metadata": {},
   "source": [
    "## Using pandas\n",
    "\n",
    "### Import pandas\n",
    "\n",
    "Before the pandas packages can be used, it must first be imported in the Notebook. This is done with the `import` statement. Normally this is done using the command `import pandas`. \n",
    "\n",
    "As programmers are lazy, while importing it is common practice to give pandas the nickame 'pd', so we can type less whil using the package. We use the word `as` for this, as in the following command:"
   ]
  },
  {
   "cell_type": "code",
   "execution_count": 6,
   "id": "73d783f2",
   "metadata": {},
   "outputs": [],
   "source": [
    "import pandas as pd"
   ]
  },
  {
   "cell_type": "markdown",
   "id": "5824b4ee",
   "metadata": {},
   "source": [
    "# Verhaaltje over verschillende file formats importeren en dat we hier alleen csv doen"
   ]
  },
  {
   "cell_type": "code",
   "execution_count": 35,
   "id": "a28a3fc3",
   "metadata": {},
   "outputs": [],
   "source": [
    "data = pd.read_csv(r\"Data/avengers.csv\",encoding='latin-1')"
   ]
  },
  {
   "cell_type": "code",
   "execution_count": 36,
   "id": "4ef27178",
   "metadata": {},
   "outputs": [
    {
     "data": {
      "text/html": [
       "<div>\n",
       "<style scoped>\n",
       "    .dataframe tbody tr th:only-of-type {\n",
       "        vertical-align: middle;\n",
       "    }\n",
       "\n",
       "    .dataframe tbody tr th {\n",
       "        vertical-align: top;\n",
       "    }\n",
       "\n",
       "    .dataframe thead th {\n",
       "        text-align: right;\n",
       "    }\n",
       "</style>\n",
       "<table border=\"1\" class=\"dataframe\">\n",
       "  <thead>\n",
       "    <tr style=\"text-align: right;\">\n",
       "      <th></th>\n",
       "      <th>URL</th>\n",
       "      <th>Name/Alias</th>\n",
       "      <th>Appearances</th>\n",
       "      <th>Current?</th>\n",
       "      <th>Gender</th>\n",
       "      <th>Probationary Introl</th>\n",
       "      <th>Full/Reserve Avengers Intro</th>\n",
       "      <th>Year</th>\n",
       "      <th>Years since joining</th>\n",
       "      <th>Honorary</th>\n",
       "      <th>...</th>\n",
       "      <th>Return1</th>\n",
       "      <th>Death2</th>\n",
       "      <th>Return2</th>\n",
       "      <th>Death3</th>\n",
       "      <th>Return3</th>\n",
       "      <th>Death4</th>\n",
       "      <th>Return4</th>\n",
       "      <th>Death5</th>\n",
       "      <th>Return5</th>\n",
       "      <th>Notes</th>\n",
       "    </tr>\n",
       "  </thead>\n",
       "  <tbody>\n",
       "    <tr>\n",
       "      <th>0</th>\n",
       "      <td>http://marvel.wikia.com/Henry_Pym_(Earth-616)</td>\n",
       "      <td>Henry Jonathan \"Hank\" Pym</td>\n",
       "      <td>1269</td>\n",
       "      <td>YES</td>\n",
       "      <td>MALE</td>\n",
       "      <td>NaN</td>\n",
       "      <td>Sep-63</td>\n",
       "      <td>1963</td>\n",
       "      <td>52</td>\n",
       "      <td>Full</td>\n",
       "      <td>...</td>\n",
       "      <td>NO</td>\n",
       "      <td>NaN</td>\n",
       "      <td>NaN</td>\n",
       "      <td>NaN</td>\n",
       "      <td>NaN</td>\n",
       "      <td>NaN</td>\n",
       "      <td>NaN</td>\n",
       "      <td>NaN</td>\n",
       "      <td>NaN</td>\n",
       "      <td>Merged with Ultron in Rage of Ultron Vol. 1. A...</td>\n",
       "    </tr>\n",
       "    <tr>\n",
       "      <th>1</th>\n",
       "      <td>http://marvel.wikia.com/Janet_van_Dyne_(Earth-...</td>\n",
       "      <td>Janet van Dyne</td>\n",
       "      <td>1165</td>\n",
       "      <td>YES</td>\n",
       "      <td>FEMALE</td>\n",
       "      <td>NaN</td>\n",
       "      <td>Sep-63</td>\n",
       "      <td>1963</td>\n",
       "      <td>52</td>\n",
       "      <td>Full</td>\n",
       "      <td>...</td>\n",
       "      <td>YES</td>\n",
       "      <td>NaN</td>\n",
       "      <td>NaN</td>\n",
       "      <td>NaN</td>\n",
       "      <td>NaN</td>\n",
       "      <td>NaN</td>\n",
       "      <td>NaN</td>\n",
       "      <td>NaN</td>\n",
       "      <td>NaN</td>\n",
       "      <td>Dies in Secret Invasion V1:I8. Actually was se...</td>\n",
       "    </tr>\n",
       "    <tr>\n",
       "      <th>2</th>\n",
       "      <td>http://marvel.wikia.com/Anthony_Stark_(Earth-616)</td>\n",
       "      <td>Anthony Edward \"Tony\" Stark</td>\n",
       "      <td>3068</td>\n",
       "      <td>YES</td>\n",
       "      <td>MALE</td>\n",
       "      <td>NaN</td>\n",
       "      <td>Sep-63</td>\n",
       "      <td>1963</td>\n",
       "      <td>52</td>\n",
       "      <td>Full</td>\n",
       "      <td>...</td>\n",
       "      <td>YES</td>\n",
       "      <td>NaN</td>\n",
       "      <td>NaN</td>\n",
       "      <td>NaN</td>\n",
       "      <td>NaN</td>\n",
       "      <td>NaN</td>\n",
       "      <td>NaN</td>\n",
       "      <td>NaN</td>\n",
       "      <td>NaN</td>\n",
       "      <td>Death: \"Later while under the influence of Imm...</td>\n",
       "    </tr>\n",
       "    <tr>\n",
       "      <th>3</th>\n",
       "      <td>http://marvel.wikia.com/Robert_Bruce_Banner_(E...</td>\n",
       "      <td>Robert Bruce Banner</td>\n",
       "      <td>2089</td>\n",
       "      <td>YES</td>\n",
       "      <td>MALE</td>\n",
       "      <td>NaN</td>\n",
       "      <td>Sep-63</td>\n",
       "      <td>1963</td>\n",
       "      <td>52</td>\n",
       "      <td>Full</td>\n",
       "      <td>...</td>\n",
       "      <td>YES</td>\n",
       "      <td>NaN</td>\n",
       "      <td>NaN</td>\n",
       "      <td>NaN</td>\n",
       "      <td>NaN</td>\n",
       "      <td>NaN</td>\n",
       "      <td>NaN</td>\n",
       "      <td>NaN</td>\n",
       "      <td>NaN</td>\n",
       "      <td>Dies in Ghosts of the Future arc. However \"he ...</td>\n",
       "    </tr>\n",
       "  </tbody>\n",
       "</table>\n",
       "<p>4 rows × 21 columns</p>\n",
       "</div>"
      ],
      "text/plain": [
       "                                                 URL  \\\n",
       "0      http://marvel.wikia.com/Henry_Pym_(Earth-616)   \n",
       "1  http://marvel.wikia.com/Janet_van_Dyne_(Earth-...   \n",
       "2  http://marvel.wikia.com/Anthony_Stark_(Earth-616)   \n",
       "3  http://marvel.wikia.com/Robert_Bruce_Banner_(E...   \n",
       "\n",
       "                    Name/Alias  Appearances Current?  Gender  \\\n",
       "0    Henry Jonathan \"Hank\" Pym         1269      YES    MALE   \n",
       "1               Janet van Dyne         1165      YES  FEMALE   \n",
       "2  Anthony Edward \"Tony\" Stark         3068      YES    MALE   \n",
       "3          Robert Bruce Banner         2089      YES    MALE   \n",
       "\n",
       "  Probationary Introl Full/Reserve Avengers Intro  Year  Years since joining  \\\n",
       "0                 NaN                      Sep-63  1963                   52   \n",
       "1                 NaN                      Sep-63  1963                   52   \n",
       "2                 NaN                      Sep-63  1963                   52   \n",
       "3                 NaN                      Sep-63  1963                   52   \n",
       "\n",
       "  Honorary  ... Return1 Death2 Return2 Death3 Return3 Death4 Return4 Death5  \\\n",
       "0     Full  ...      NO    NaN     NaN    NaN     NaN    NaN     NaN    NaN   \n",
       "1     Full  ...     YES    NaN     NaN    NaN     NaN    NaN     NaN    NaN   \n",
       "2     Full  ...     YES    NaN     NaN    NaN     NaN    NaN     NaN    NaN   \n",
       "3     Full  ...     YES    NaN     NaN    NaN     NaN    NaN     NaN    NaN   \n",
       "\n",
       "  Return5                                              Notes  \n",
       "0     NaN  Merged with Ultron in Rage of Ultron Vol. 1. A...  \n",
       "1     NaN  Dies in Secret Invasion V1:I8. Actually was se...  \n",
       "2     NaN  Death: \"Later while under the influence of Imm...  \n",
       "3     NaN  Dies in Ghosts of the Future arc. However \"he ...  \n",
       "\n",
       "[4 rows x 21 columns]"
      ]
     },
     "execution_count": 36,
     "metadata": {},
     "output_type": "execute_result"
    }
   ],
   "source": [
    "data.head(4) ## Om eerste rijen te bekijken"
   ]
  },
  {
   "cell_type": "code",
   "execution_count": 37,
   "id": "7659d035",
   "metadata": {},
   "outputs": [
    {
     "data": {
      "text/html": [
       "<div>\n",
       "<style scoped>\n",
       "    .dataframe tbody tr th:only-of-type {\n",
       "        vertical-align: middle;\n",
       "    }\n",
       "\n",
       "    .dataframe tbody tr th {\n",
       "        vertical-align: top;\n",
       "    }\n",
       "\n",
       "    .dataframe thead th {\n",
       "        text-align: right;\n",
       "    }\n",
       "</style>\n",
       "<table border=\"1\" class=\"dataframe\">\n",
       "  <thead>\n",
       "    <tr style=\"text-align: right;\">\n",
       "      <th></th>\n",
       "      <th>URL</th>\n",
       "      <th>Name/Alias</th>\n",
       "      <th>Appearances</th>\n",
       "      <th>Current?</th>\n",
       "      <th>Gender</th>\n",
       "      <th>Probationary Introl</th>\n",
       "      <th>Full/Reserve Avengers Intro</th>\n",
       "      <th>Year</th>\n",
       "      <th>Years since joining</th>\n",
       "      <th>Honorary</th>\n",
       "      <th>...</th>\n",
       "      <th>Return1</th>\n",
       "      <th>Death2</th>\n",
       "      <th>Return2</th>\n",
       "      <th>Death3</th>\n",
       "      <th>Return3</th>\n",
       "      <th>Death4</th>\n",
       "      <th>Return4</th>\n",
       "      <th>Death5</th>\n",
       "      <th>Return5</th>\n",
       "      <th>Notes</th>\n",
       "    </tr>\n",
       "  </thead>\n",
       "  <tbody>\n",
       "    <tr>\n",
       "      <th>169</th>\n",
       "      <td>http://marvel.wikia.com/Adam_Brashear_(Earth-6...</td>\n",
       "      <td>Adam Brashear</td>\n",
       "      <td>29</td>\n",
       "      <td>YES</td>\n",
       "      <td>MALE</td>\n",
       "      <td>NaN</td>\n",
       "      <td>14-Jan</td>\n",
       "      <td>2014</td>\n",
       "      <td>1</td>\n",
       "      <td>Full</td>\n",
       "      <td>...</td>\n",
       "      <td>NaN</td>\n",
       "      <td>NaN</td>\n",
       "      <td>NaN</td>\n",
       "      <td>NaN</td>\n",
       "      <td>NaN</td>\n",
       "      <td>NaN</td>\n",
       "      <td>NaN</td>\n",
       "      <td>NaN</td>\n",
       "      <td>NaN</td>\n",
       "      <td>NaN</td>\n",
       "    </tr>\n",
       "    <tr>\n",
       "      <th>170</th>\n",
       "      <td>http://marvel.wikia.com/Victor_Alvarez_(Earth-...</td>\n",
       "      <td>Victor Alvarez</td>\n",
       "      <td>45</td>\n",
       "      <td>YES</td>\n",
       "      <td>MALE</td>\n",
       "      <td>NaN</td>\n",
       "      <td>14-Jan</td>\n",
       "      <td>2014</td>\n",
       "      <td>1</td>\n",
       "      <td>Full</td>\n",
       "      <td>...</td>\n",
       "      <td>NaN</td>\n",
       "      <td>NaN</td>\n",
       "      <td>NaN</td>\n",
       "      <td>NaN</td>\n",
       "      <td>NaN</td>\n",
       "      <td>NaN</td>\n",
       "      <td>NaN</td>\n",
       "      <td>NaN</td>\n",
       "      <td>NaN</td>\n",
       "      <td>NaN</td>\n",
       "    </tr>\n",
       "    <tr>\n",
       "      <th>171</th>\n",
       "      <td>http://marvel.wikia.com/Ava_Ayala_(Earth-616)#</td>\n",
       "      <td>Ava Ayala</td>\n",
       "      <td>49</td>\n",
       "      <td>YES</td>\n",
       "      <td>FEMALE</td>\n",
       "      <td>NaN</td>\n",
       "      <td>14-Jan</td>\n",
       "      <td>2014</td>\n",
       "      <td>1</td>\n",
       "      <td>Full</td>\n",
       "      <td>...</td>\n",
       "      <td>NaN</td>\n",
       "      <td>NaN</td>\n",
       "      <td>NaN</td>\n",
       "      <td>NaN</td>\n",
       "      <td>NaN</td>\n",
       "      <td>NaN</td>\n",
       "      <td>NaN</td>\n",
       "      <td>NaN</td>\n",
       "      <td>NaN</td>\n",
       "      <td>NaN</td>\n",
       "    </tr>\n",
       "    <tr>\n",
       "      <th>172</th>\n",
       "      <td>http://marvel.wikia.com/Kaluu_(Earth-616)#</td>\n",
       "      <td>Kaluu</td>\n",
       "      <td>35</td>\n",
       "      <td>YES</td>\n",
       "      <td>MALE</td>\n",
       "      <td>NaN</td>\n",
       "      <td>15-Jan</td>\n",
       "      <td>2015</td>\n",
       "      <td>0</td>\n",
       "      <td>Full</td>\n",
       "      <td>...</td>\n",
       "      <td>NaN</td>\n",
       "      <td>NaN</td>\n",
       "      <td>NaN</td>\n",
       "      <td>NaN</td>\n",
       "      <td>NaN</td>\n",
       "      <td>NaN</td>\n",
       "      <td>NaN</td>\n",
       "      <td>NaN</td>\n",
       "      <td>NaN</td>\n",
       "      <td>NaN</td>\n",
       "    </tr>\n",
       "  </tbody>\n",
       "</table>\n",
       "<p>4 rows × 21 columns</p>\n",
       "</div>"
      ],
      "text/plain": [
       "                                                   URL      Name/Alias  \\\n",
       "169  http://marvel.wikia.com/Adam_Brashear_(Earth-6...   Adam Brashear   \n",
       "170  http://marvel.wikia.com/Victor_Alvarez_(Earth-...  Victor Alvarez   \n",
       "171     http://marvel.wikia.com/Ava_Ayala_(Earth-616)#       Ava Ayala   \n",
       "172         http://marvel.wikia.com/Kaluu_(Earth-616)#           Kaluu   \n",
       "\n",
       "     Appearances Current?  Gender Probationary Introl  \\\n",
       "169           29      YES    MALE                 NaN   \n",
       "170           45      YES    MALE                 NaN   \n",
       "171           49      YES  FEMALE                 NaN   \n",
       "172           35      YES    MALE                 NaN   \n",
       "\n",
       "    Full/Reserve Avengers Intro  Year  Years since joining Honorary  ...  \\\n",
       "169                      14-Jan  2014                    1     Full  ...   \n",
       "170                      14-Jan  2014                    1     Full  ...   \n",
       "171                      14-Jan  2014                    1     Full  ...   \n",
       "172                      15-Jan  2015                    0     Full  ...   \n",
       "\n",
       "    Return1 Death2 Return2 Death3 Return3 Death4 Return4 Death5 Return5 Notes  \n",
       "169     NaN    NaN     NaN    NaN     NaN    NaN     NaN    NaN     NaN   NaN  \n",
       "170     NaN    NaN     NaN    NaN     NaN    NaN     NaN    NaN     NaN   NaN  \n",
       "171     NaN    NaN     NaN    NaN     NaN    NaN     NaN    NaN     NaN   NaN  \n",
       "172     NaN    NaN     NaN    NaN     NaN    NaN     NaN    NaN     NaN   NaN  \n",
       "\n",
       "[4 rows x 21 columns]"
      ]
     },
     "execution_count": 37,
     "metadata": {},
     "output_type": "execute_result"
    }
   ],
   "source": [
    "data.tail(4) ## voor laatse 4 rijen"
   ]
  },
  {
   "cell_type": "code",
   "execution_count": 44,
   "id": "7c31f766",
   "metadata": {},
   "outputs": [
    {
     "data": {
      "text/plain": [
       "array(['Full', 'Honorary', 'Probationary', 'Academy'], dtype=object)"
      ]
     },
     "execution_count": 44,
     "metadata": {},
     "output_type": "execute_result"
    }
   ],
   "source": [
    "data.Honorary.unique()"
   ]
  },
  {
   "cell_type": "markdown",
   "id": "2556efc4",
   "metadata": {},
   "source": [
    "twee manieren van oproepen kolommen. Degene met de brackets als er bijv spaties in de kolom naam zitten. "
   ]
  },
  {
   "cell_type": "code",
   "execution_count": 95,
   "id": "f4f01554",
   "metadata": {},
   "outputs": [
    {
     "data": {
      "text/plain": [
       "MALE      115\n",
       "FEMALE     58\n",
       "Name: Gender, dtype: int64"
      ]
     },
     "execution_count": 95,
     "metadata": {},
     "output_type": "execute_result"
    }
   ],
   "source": [
    "data.Gender.value_counts()"
   ]
  },
  {
   "cell_type": "code",
   "execution_count": 22,
   "id": "d819c169",
   "metadata": {},
   "outputs": [
    {
     "data": {
      "text/plain": [
       "NO     104\n",
       "YES     69\n",
       "Name: Death1, dtype: int64"
      ]
     },
     "execution_count": 22,
     "metadata": {},
     "output_type": "execute_result"
    }
   ],
   "source": [
    "data.Death1.value_counts()"
   ]
  },
  {
   "cell_type": "code",
   "execution_count": 52,
   "id": "170f0133",
   "metadata": {},
   "outputs": [
    {
     "data": {
      "text/plain": [
       "YES    46\n",
       "NO     23\n",
       "Name: Return1, dtype: int64"
      ]
     },
     "execution_count": 52,
     "metadata": {},
     "output_type": "execute_result"
    }
   ],
   "source": [
    "data.Return1.value_counts()"
   ]
  },
  {
   "cell_type": "code",
   "execution_count": 30,
   "id": "517085a0",
   "metadata": {},
   "outputs": [
    {
     "data": {
      "text/plain": [
       "YES    16\n",
       "NO      1\n",
       "Name: Death2, dtype: int64"
      ]
     },
     "execution_count": 30,
     "metadata": {},
     "output_type": "execute_result"
    }
   ],
   "source": [
    "data.Death2.value_counts()"
   ]
  },
  {
   "cell_type": "markdown",
   "id": "af54d829",
   "metadata": {},
   "source": [
    "Hoe kan het dat minder terug komt? omdat value_counts geen nan telt"
   ]
  },
  {
   "cell_type": "code",
   "execution_count": 33,
   "id": "21559fab",
   "metadata": {},
   "outputs": [
    {
     "data": {
      "text/plain": [
       "NaN    156\n",
       "YES     16\n",
       "NO       1\n",
       "Name: Death2, dtype: int64"
      ]
     },
     "execution_count": 33,
     "metadata": {},
     "output_type": "execute_result"
    }
   ],
   "source": [
    "data.Death2.value_counts(dropna=False)"
   ]
  },
  {
   "cell_type": "markdown",
   "id": "8c4c8885",
   "metadata": {},
   "source": [
    "je kan ook andere functies gebruiken, zoals min, max"
   ]
  },
  {
   "cell_type": "code",
   "execution_count": 39,
   "id": "0624c402",
   "metadata": {},
   "outputs": [
    {
     "data": {
      "text/plain": [
       "0"
      ]
     },
     "execution_count": 39,
     "metadata": {},
     "output_type": "execute_result"
    }
   ],
   "source": [
    "min(data['Years since joining'])"
   ]
  },
  {
   "cell_type": "code",
   "execution_count": 40,
   "id": "4aaf70a3",
   "metadata": {},
   "outputs": [
    {
     "data": {
      "text/plain": [
       "115"
      ]
     },
     "execution_count": 40,
     "metadata": {},
     "output_type": "execute_result"
    }
   ],
   "source": [
    "max(data['Years since joining'])"
   ]
  },
  {
   "cell_type": "markdown",
   "id": "89f37d4e",
   "metadata": {},
   "source": [
    "# wat te doen\n",
    "\n",
    "* tellen hoeveel mannen versus vrouwen\n",
    "* tellen hoeveel dood\n",
    "* min en max aantal apparaences\n",
    "* iets met jaren (kijken of echt jaar is, dan plotten?)\n",
    "* min en max aantal jaren aanwezig (dit kan een opdracht zijn)\n",
    "* hoeveel meer dan 1x dood en hoe vaak dan dood\n",
    "\n",
    "Dan in Plotly al deze info in grafieken. \n"
   ]
  },
  {
   "cell_type": "code",
   "execution_count": 69,
   "id": "656b1f15",
   "metadata": {},
   "outputs": [],
   "source": [
    "gender = data.groupby('Gender')['Name/Alias'].count().reset_index()"
   ]
  },
  {
   "cell_type": "code",
   "execution_count": 72,
   "id": "169f492e",
   "metadata": {},
   "outputs": [
    {
     "data": {
      "text/plain": [
       "<AxesSubplot:xlabel='Gender'>"
      ]
     },
     "execution_count": 72,
     "metadata": {},
     "output_type": "execute_result"
    },
    {
     "data": {
      "image/png": "[encoded data removed]",
      "text/plain": [
       "<Figure size 432x288 with 1 Axes>"
      ]
     },
     "metadata": {
      "needs_background": "light"
     },
     "output_type": "display_data"
    }
   ],
   "source": [
    "gender.plot(kind = 'bar', x = 'Gender', y = 'Name/Alias' )"
   ]
  },
  {
   "cell_type": "code",
   "execution_count": 71,
   "id": "13c9991e",
   "metadata": {},
   "outputs": [
    {
     "data": {
      "text/html": [
       "<div>\n",
       "<style scoped>\n",
       "    .dataframe tbody tr th:only-of-type {\n",
       "        vertical-align: middle;\n",
       "    }\n",
       "\n",
       "    .dataframe tbody tr th {\n",
       "        vertical-align: top;\n",
       "    }\n",
       "\n",
       "    .dataframe thead th {\n",
       "        text-align: right;\n",
       "    }\n",
       "</style>\n",
       "<table border=\"1\" class=\"dataframe\">\n",
       "  <thead>\n",
       "    <tr style=\"text-align: right;\">\n",
       "      <th></th>\n",
       "      <th>Gender</th>\n",
       "      <th>Name/Alias</th>\n",
       "    </tr>\n",
       "  </thead>\n",
       "  <tbody>\n",
       "    <tr>\n",
       "      <th>0</th>\n",
       "      <td>FEMALE</td>\n",
       "      <td>53</td>\n",
       "    </tr>\n",
       "    <tr>\n",
       "      <th>1</th>\n",
       "      <td>MALE</td>\n",
       "      <td>110</td>\n",
       "    </tr>\n",
       "  </tbody>\n",
       "</table>\n",
       "</div>"
      ],
      "text/plain": [
       "   Gender  Name/Alias\n",
       "0  FEMALE          53\n",
       "1    MALE         110"
      ]
     },
     "execution_count": 71,
     "metadata": {},
     "output_type": "execute_result"
    }
   ],
   "source": [
    "gender"
   ]
  },
  {
   "cell_type": "code",
   "execution_count": 96,
   "id": "646bbb6f",
   "metadata": {},
   "outputs": [
    {
     "data": {
      "text/plain": [
       "<AxesSubplot:>"
      ]
     },
     "execution_count": 96,
     "metadata": {},
     "output_type": "execute_result"
    },
    {
     "data": {
      "image/png": "[encoded data removed]",
      "text/plain": [
       "<Figure size 432x288 with 1 Axes>"
      ]
     },
     "metadata": {
      "needs_background": "light"
     },
     "output_type": "display_data"
    }
   ],
   "source": [
    "gender = data.Gender.value_counts()\n",
    "gender.plot(kind = 'bar')"
   ]
  },
  {
   "cell_type": "code",
   "execution_count": 97,
   "id": "7e3d70c1",
   "metadata": {},
   "outputs": [
    {
     "data": {
      "text/plain": [
       "<AxesSubplot:>"
      ]
     },
     "execution_count": 97,
     "metadata": {},
     "output_type": "execute_result"
    },
    {
     "data": {
      "image/png": "[encoded data removed]",
      "text/plain": [
       "<Figure size 432x288 with 1 Axes>"
      ]
     },
     "metadata": {
      "needs_background": "light"
     },
     "output_type": "display_data"
    }
   ],
   "source": [
    "death1 = data.Death1.value_counts()\n",
    "death1.plot(kind = 'bar')"
   ]
  },
  {
   "cell_type": "code",
   "execution_count": 118,
   "id": "8ec8bea7",
   "metadata": {},
   "outputs": [],
   "source": [
    "year_since = data.groupby('Years since joining')['Name/Alias'].count().reset_index()"
   ]
  },
  {
   "cell_type": "code",
   "execution_count": 125,
   "id": "57e5bbe7",
   "metadata": {},
   "outputs": [
    {
     "data": {
      "text/plain": [
       "<AxesSubplot:xlabel='Years since joining'>"
      ]
     },
     "execution_count": 125,
     "metadata": {},
     "output_type": "execute_result"
    },
    {
     "data": {
      "image/png": "[encoded data removed]",
      "text/plain": [
       "<Figure size 1440x720 with 1 Axes>"
      ]
     },
     "metadata": {
      "needs_background": "light"
     },
     "output_type": "display_data"
    }
   ],
   "source": [
    "year_since.plot(kind = 'bar', x = 'Years since joining', y = 'Name/Alias', figsize = (20,10))"
   ]
  },
  {
   "cell_type": "code",
   "execution_count": 122,
   "id": "789ace71",
   "metadata": {},
   "outputs": [],
   "source": [
    "year = data.groupby('Year')['Name/Alias'].count().reset_index()"
   ]
  },
  {
   "cell_type": "code",
   "execution_count": 124,
   "id": "9755aede",
   "metadata": {},
   "outputs": [
    {
     "data": {
      "text/plain": [
       "<AxesSubplot:xlabel='Year'>"
      ]
     },
     "execution_count": 124,
     "metadata": {},
     "output_type": "execute_result"
    },
    {
     "data": {
      "image/png": "[encoded data removed]",
      "text/plain": [
       "<Figure size 1440x720 with 1 Axes>"
      ]
     },
     "metadata": {
      "needs_background": "light"
     },
     "output_type": "display_data"
    }
   ],
   "source": [
    "year.plot(kind = 'bar', x = 'Year', y = 'Name/Alias', figsize = (20,10))"
   ]
  },
  {
   "cell_type": "code",
   "execution_count": null,
   "id": "39c0378c",
   "metadata": {},
   "outputs": [],
   "source": []
  }
 ],
 "metadata": {
  "kernelspec": {
   "display_name": "Python 3 (ipykernel)",
   "language": "python",
   "name": "python3"
  },
  "language_info": {
   "codemirror_mode": {
    "name": "ipython",
    "version": 3
   },
   "file_extension": ".py",
   "mimetype": "text/x-python",
   "name": "python",
   "nbconvert_exporter": "python",
   "pygments_lexer": "ipython3",
   "version": "3.9.12"
  }
 },
 "nbformat": 4,
 "nbformat_minor": 5
}
