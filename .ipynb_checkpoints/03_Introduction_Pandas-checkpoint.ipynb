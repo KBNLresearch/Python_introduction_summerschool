{
 "cells": [
  {
   "cell_type": "markdown",
   "id": "f5be0e3e",
   "metadata": {},
   "source": [
    "# Introduction to Pandas\n",
    "\n",
    "This Notebook contains parts of the Notebook from [**Muhammad Kareem, Byte Sized Code**](https://github.com/arpit-omprakash/Byte-Sized-Code/blob/master/Python-Notebooks/Pandas%20Notebook.ipynb).\n",
    "\n",
    "To make sure that the Notebook works properly, please make sure you run all the code cells you encounter. "
   ]
  },
  {
   "cell_type": "markdown",
   "id": "458185f8",
   "metadata": {},
   "source": [
    "## What is pandas?\n",
    "\n",
    "Pandas is a powerful python module for data analysis and it has essential features for any data science project"
   ]
  },
  {
   "cell_type": "markdown",
   "id": "1987448e",
   "metadata": {},
   "source": [
    "## Why use pandas?\n",
    "\n",
    "Pandas provides awesome features for data analysis and visualization with very few lines of code yet outstanding effect, Some of the major features it has are as follows :\n",
    "\n",
    "* Sorting out data and creating awesome insights on the data\n",
    "* Beautiful plots on the generated data to provide a visualized view of the data for non - programmers\n",
    "* Indexing and sorting out values in data\n",
    "* Handling big data (data as big as millions of entries)\n",
    "* Cleaning up data and handling missing values\n"
   ]
  },
  {
   "cell_type": "markdown",
   "id": "940dd29c",
   "metadata": {},
   "source": [
    "## Installing pandas"
   ]
  },
  {
   "cell_type": "markdown",
   "id": "52dd9bba",
   "metadata": {},
   "source": [
    "Pandas can be installed using the command `pip install pandas` for regular installation and refer to the documentations of pandas if you're using any virtual environment.\n",
    "\n",
    "If this Notebooks is used in Binder, pandas is already installed. \n"
   ]
  },
  {
   "cell_type": "markdown",
   "id": "787faf41",
   "metadata": {},
   "source": [
    "## Using pandas\n",
    "\n",
    "### Import pandas\n",
    "\n",
    "Before the pandas packages can be used, it must first be imported in the Notebook. This is done with the `import` statement. Normally this is done using the command `import pandas`. \n",
    "\n",
    "As programmers are lazy, while importing it is common practice to give pandas the nickame 'pd', so we can type less while using the package. We use the word `as` for this, as in the following command:"
   ]
  },
  {
   "cell_type": "code",
   "execution_count": 7,
   "id": "3cf43e3a",
   "metadata": {},
   "outputs": [],
   "source": [
    "import pandas as pd"
   ]
  },
  {
   "cell_type": "markdown",
   "id": "e4720d8a",
   "metadata": {},
   "source": [
    "Pandas supports different file formats, such as csv, excel, json etc. \n",
    "\n",
    "In this tutorial, we will work with a csv file. The csv file is downloaded from the repository from [Five Thirty Eight](https://github.com/fivethirtyeight) and contains information about the Marvel comic book characters the Avengers.\n",
    "\n",
    "We can store the csv file we want to use in a variable with the function `read_csv()` from pandas. The csv file is then stored as a dataframe. A pandas DataFrame is a way to represent and work with tabular data. It can be seen as a table that organizes data into rows and columns, making it a two-dimensional data structure.\n",
    "\n",
    "In order to read csv files, pandas uses an encoding. The standard encoding is utf-8. However, the file we use has a latin-1 encodig, so we have to specify this while reading the file. "
   ]
  },
  {
   "cell_type": "code",
   "execution_count": 8,
   "id": "df5656ce",
   "metadata": {},
   "outputs": [],
   "source": [
    "data = pd.read_csv(r\"Data/avengers.csv\", encoding='latin-1')"
   ]
  },
  {
   "cell_type": "markdown",
   "id": "d65c99c3",
   "metadata": {},
   "source": [
    "### Inspecting the dataframe"
   ]
  },
  {
   "cell_type": "markdown",
   "id": "c220a801",
   "metadata": {},
   "source": [
    "Once the csv file is loaded as dataframe, you can start by inspecting your dataframe. \n",
    "\n",
    "First, we check if everything is loaded correctly by displaying the frame. This also gives us a first insight in the data we have. As you may remember from the previous Notebook, we do this *without* the `print()` function. "
   ]
  },
  {
   "cell_type": "code",
   "execution_count": 9,
   "id": "be054427",
   "metadata": {},
   "outputs": [
    {
     "data": {
      "text/html": [
       "<div>\n",
       "<style scoped>\n",
       "    .dataframe tbody tr th:only-of-type {\n",
       "        vertical-align: middle;\n",
       "    }\n",
       "\n",
       "    .dataframe tbody tr th {\n",
       "        vertical-align: top;\n",
       "    }\n",
       "\n",
       "    .dataframe thead th {\n",
       "        text-align: right;\n",
       "    }\n",
       "</style>\n",
       "<table border=\"1\" class=\"dataframe\">\n",
       "  <thead>\n",
       "    <tr style=\"text-align: right;\">\n",
       "      <th></th>\n",
       "      <th>URL</th>\n",
       "      <th>Name/Alias</th>\n",
       "      <th>Appearances</th>\n",
       "      <th>Current?</th>\n",
       "      <th>Gender</th>\n",
       "      <th>Probationary Introl</th>\n",
       "      <th>Full/Reserve Avengers Intro</th>\n",
       "      <th>Year</th>\n",
       "      <th>Years since joining</th>\n",
       "      <th>Honorary</th>\n",
       "      <th>...</th>\n",
       "      <th>Return1</th>\n",
       "      <th>Death2</th>\n",
       "      <th>Return2</th>\n",
       "      <th>Death3</th>\n",
       "      <th>Return3</th>\n",
       "      <th>Death4</th>\n",
       "      <th>Return4</th>\n",
       "      <th>Death5</th>\n",
       "      <th>Return5</th>\n",
       "      <th>Notes</th>\n",
       "    </tr>\n",
       "  </thead>\n",
       "  <tbody>\n",
       "    <tr>\n",
       "      <th>0</th>\n",
       "      <td>http://marvel.wikia.com/Henry_Pym_(Earth-616)</td>\n",
       "      <td>Henry Jonathan \"Hank\" Pym</td>\n",
       "      <td>1269</td>\n",
       "      <td>YES</td>\n",
       "      <td>MALE</td>\n",
       "      <td>NaN</td>\n",
       "      <td>Sep-63</td>\n",
       "      <td>1963</td>\n",
       "      <td>52</td>\n",
       "      <td>Full</td>\n",
       "      <td>...</td>\n",
       "      <td>NO</td>\n",
       "      <td>NaN</td>\n",
       "      <td>NaN</td>\n",
       "      <td>NaN</td>\n",
       "      <td>NaN</td>\n",
       "      <td>NaN</td>\n",
       "      <td>NaN</td>\n",
       "      <td>NaN</td>\n",
       "      <td>NaN</td>\n",
       "      <td>Merged with Ultron in Rage of Ultron Vol. 1. A...</td>\n",
       "    </tr>\n",
       "    <tr>\n",
       "      <th>1</th>\n",
       "      <td>http://marvel.wikia.com/Janet_van_Dyne_(Earth-...</td>\n",
       "      <td>Janet van Dyne</td>\n",
       "      <td>1165</td>\n",
       "      <td>YES</td>\n",
       "      <td>FEMALE</td>\n",
       "      <td>NaN</td>\n",
       "      <td>Sep-63</td>\n",
       "      <td>1963</td>\n",
       "      <td>52</td>\n",
       "      <td>Full</td>\n",
       "      <td>...</td>\n",
       "      <td>YES</td>\n",
       "      <td>NaN</td>\n",
       "      <td>NaN</td>\n",
       "      <td>NaN</td>\n",
       "      <td>NaN</td>\n",
       "      <td>NaN</td>\n",
       "      <td>NaN</td>\n",
       "      <td>NaN</td>\n",
       "      <td>NaN</td>\n",
       "      <td>Dies in Secret Invasion V1:I8. Actually was se...</td>\n",
       "    </tr>\n",
       "    <tr>\n",
       "      <th>2</th>\n",
       "      <td>http://marvel.wikia.com/Anthony_Stark_(Earth-616)</td>\n",
       "      <td>Anthony Edward \"Tony\" Stark</td>\n",
       "      <td>3068</td>\n",
       "      <td>YES</td>\n",
       "      <td>MALE</td>\n",
       "      <td>NaN</td>\n",
       "      <td>Sep-63</td>\n",
       "      <td>1963</td>\n",
       "      <td>52</td>\n",
       "      <td>Full</td>\n",
       "      <td>...</td>\n",
       "      <td>YES</td>\n",
       "      <td>NaN</td>\n",
       "      <td>NaN</td>\n",
       "      <td>NaN</td>\n",
       "      <td>NaN</td>\n",
       "      <td>NaN</td>\n",
       "      <td>NaN</td>\n",
       "      <td>NaN</td>\n",
       "      <td>NaN</td>\n",
       "      <td>Death: \"Later while under the influence of Imm...</td>\n",
       "    </tr>\n",
       "    <tr>\n",
       "      <th>3</th>\n",
       "      <td>http://marvel.wikia.com/Robert_Bruce_Banner_(E...</td>\n",
       "      <td>Robert Bruce Banner</td>\n",
       "      <td>2089</td>\n",
       "      <td>YES</td>\n",
       "      <td>MALE</td>\n",
       "      <td>NaN</td>\n",
       "      <td>Sep-63</td>\n",
       "      <td>1963</td>\n",
       "      <td>52</td>\n",
       "      <td>Full</td>\n",
       "      <td>...</td>\n",
       "      <td>YES</td>\n",
       "      <td>NaN</td>\n",
       "      <td>NaN</td>\n",
       "      <td>NaN</td>\n",
       "      <td>NaN</td>\n",
       "      <td>NaN</td>\n",
       "      <td>NaN</td>\n",
       "      <td>NaN</td>\n",
       "      <td>NaN</td>\n",
       "      <td>Dies in Ghosts of the Future arc. However \"he ...</td>\n",
       "    </tr>\n",
       "    <tr>\n",
       "      <th>4</th>\n",
       "      <td>http://marvel.wikia.com/Thor_Odinson_(Earth-616)</td>\n",
       "      <td>Thor Odinson</td>\n",
       "      <td>2402</td>\n",
       "      <td>YES</td>\n",
       "      <td>MALE</td>\n",
       "      <td>NaN</td>\n",
       "      <td>Sep-63</td>\n",
       "      <td>1963</td>\n",
       "      <td>52</td>\n",
       "      <td>Full</td>\n",
       "      <td>...</td>\n",
       "      <td>YES</td>\n",
       "      <td>YES</td>\n",
       "      <td>NO</td>\n",
       "      <td>NaN</td>\n",
       "      <td>NaN</td>\n",
       "      <td>NaN</td>\n",
       "      <td>NaN</td>\n",
       "      <td>NaN</td>\n",
       "      <td>NaN</td>\n",
       "      <td>Dies in Fear Itself brought back because that'...</td>\n",
       "    </tr>\n",
       "    <tr>\n",
       "      <th>...</th>\n",
       "      <td>...</td>\n",
       "      <td>...</td>\n",
       "      <td>...</td>\n",
       "      <td>...</td>\n",
       "      <td>...</td>\n",
       "      <td>...</td>\n",
       "      <td>...</td>\n",
       "      <td>...</td>\n",
       "      <td>...</td>\n",
       "      <td>...</td>\n",
       "      <td>...</td>\n",
       "      <td>...</td>\n",
       "      <td>...</td>\n",
       "      <td>...</td>\n",
       "      <td>...</td>\n",
       "      <td>...</td>\n",
       "      <td>...</td>\n",
       "      <td>...</td>\n",
       "      <td>...</td>\n",
       "      <td>...</td>\n",
       "      <td>...</td>\n",
       "    </tr>\n",
       "    <tr>\n",
       "      <th>168</th>\n",
       "      <td>http://marvel.wikia.com/Eric_Brooks_(Earth-616)#</td>\n",
       "      <td>Eric Brooks</td>\n",
       "      <td>198</td>\n",
       "      <td>YES</td>\n",
       "      <td>MALE</td>\n",
       "      <td>NaN</td>\n",
       "      <td>13-Nov</td>\n",
       "      <td>2013</td>\n",
       "      <td>2</td>\n",
       "      <td>Full</td>\n",
       "      <td>...</td>\n",
       "      <td>NaN</td>\n",
       "      <td>NaN</td>\n",
       "      <td>NaN</td>\n",
       "      <td>NaN</td>\n",
       "      <td>NaN</td>\n",
       "      <td>NaN</td>\n",
       "      <td>NaN</td>\n",
       "      <td>NaN</td>\n",
       "      <td>NaN</td>\n",
       "      <td>NaN</td>\n",
       "    </tr>\n",
       "    <tr>\n",
       "      <th>169</th>\n",
       "      <td>http://marvel.wikia.com/Adam_Brashear_(Earth-6...</td>\n",
       "      <td>Adam Brashear</td>\n",
       "      <td>29</td>\n",
       "      <td>YES</td>\n",
       "      <td>MALE</td>\n",
       "      <td>NaN</td>\n",
       "      <td>14-Jan</td>\n",
       "      <td>2014</td>\n",
       "      <td>1</td>\n",
       "      <td>Full</td>\n",
       "      <td>...</td>\n",
       "      <td>NaN</td>\n",
       "      <td>NaN</td>\n",
       "      <td>NaN</td>\n",
       "      <td>NaN</td>\n",
       "      <td>NaN</td>\n",
       "      <td>NaN</td>\n",
       "      <td>NaN</td>\n",
       "      <td>NaN</td>\n",
       "      <td>NaN</td>\n",
       "      <td>NaN</td>\n",
       "    </tr>\n",
       "    <tr>\n",
       "      <th>170</th>\n",
       "      <td>http://marvel.wikia.com/Victor_Alvarez_(Earth-...</td>\n",
       "      <td>Victor Alvarez</td>\n",
       "      <td>45</td>\n",
       "      <td>YES</td>\n",
       "      <td>MALE</td>\n",
       "      <td>NaN</td>\n",
       "      <td>14-Jan</td>\n",
       "      <td>2014</td>\n",
       "      <td>1</td>\n",
       "      <td>Full</td>\n",
       "      <td>...</td>\n",
       "      <td>NaN</td>\n",
       "      <td>NaN</td>\n",
       "      <td>NaN</td>\n",
       "      <td>NaN</td>\n",
       "      <td>NaN</td>\n",
       "      <td>NaN</td>\n",
       "      <td>NaN</td>\n",
       "      <td>NaN</td>\n",
       "      <td>NaN</td>\n",
       "      <td>NaN</td>\n",
       "    </tr>\n",
       "    <tr>\n",
       "      <th>171</th>\n",
       "      <td>http://marvel.wikia.com/Ava_Ayala_(Earth-616)#</td>\n",
       "      <td>Ava Ayala</td>\n",
       "      <td>49</td>\n",
       "      <td>YES</td>\n",
       "      <td>FEMALE</td>\n",
       "      <td>NaN</td>\n",
       "      <td>14-Jan</td>\n",
       "      <td>2014</td>\n",
       "      <td>1</td>\n",
       "      <td>Full</td>\n",
       "      <td>...</td>\n",
       "      <td>NaN</td>\n",
       "      <td>NaN</td>\n",
       "      <td>NaN</td>\n",
       "      <td>NaN</td>\n",
       "      <td>NaN</td>\n",
       "      <td>NaN</td>\n",
       "      <td>NaN</td>\n",
       "      <td>NaN</td>\n",
       "      <td>NaN</td>\n",
       "      <td>NaN</td>\n",
       "    </tr>\n",
       "    <tr>\n",
       "      <th>172</th>\n",
       "      <td>http://marvel.wikia.com/Kaluu_(Earth-616)#</td>\n",
       "      <td>Kaluu</td>\n",
       "      <td>35</td>\n",
       "      <td>YES</td>\n",
       "      <td>MALE</td>\n",
       "      <td>NaN</td>\n",
       "      <td>15-Jan</td>\n",
       "      <td>2015</td>\n",
       "      <td>0</td>\n",
       "      <td>Full</td>\n",
       "      <td>...</td>\n",
       "      <td>NaN</td>\n",
       "      <td>NaN</td>\n",
       "      <td>NaN</td>\n",
       "      <td>NaN</td>\n",
       "      <td>NaN</td>\n",
       "      <td>NaN</td>\n",
       "      <td>NaN</td>\n",
       "      <td>NaN</td>\n",
       "      <td>NaN</td>\n",
       "      <td>NaN</td>\n",
       "    </tr>\n",
       "  </tbody>\n",
       "</table>\n",
       "<p>173 rows × 21 columns</p>\n",
       "</div>"
      ],
      "text/plain": [
       "                                                   URL  \\\n",
       "0        http://marvel.wikia.com/Henry_Pym_(Earth-616)   \n",
       "1    http://marvel.wikia.com/Janet_van_Dyne_(Earth-...   \n",
       "2    http://marvel.wikia.com/Anthony_Stark_(Earth-616)   \n",
       "3    http://marvel.wikia.com/Robert_Bruce_Banner_(E...   \n",
       "4     http://marvel.wikia.com/Thor_Odinson_(Earth-616)   \n",
       "..                                                 ...   \n",
       "168   http://marvel.wikia.com/Eric_Brooks_(Earth-616)#   \n",
       "169  http://marvel.wikia.com/Adam_Brashear_(Earth-6...   \n",
       "170  http://marvel.wikia.com/Victor_Alvarez_(Earth-...   \n",
       "171     http://marvel.wikia.com/Ava_Ayala_(Earth-616)#   \n",
       "172         http://marvel.wikia.com/Kaluu_(Earth-616)#   \n",
       "\n",
       "                      Name/Alias  Appearances Current?  Gender  \\\n",
       "0      Henry Jonathan \"Hank\" Pym         1269      YES    MALE   \n",
       "1                 Janet van Dyne         1165      YES  FEMALE   \n",
       "2    Anthony Edward \"Tony\" Stark         3068      YES    MALE   \n",
       "3            Robert Bruce Banner         2089      YES    MALE   \n",
       "4                   Thor Odinson         2402      YES    MALE   \n",
       "..                           ...          ...      ...     ...   \n",
       "168                  Eric Brooks          198      YES    MALE   \n",
       "169                Adam Brashear           29      YES    MALE   \n",
       "170               Victor Alvarez           45      YES    MALE   \n",
       "171                    Ava Ayala           49      YES  FEMALE   \n",
       "172                        Kaluu           35      YES    MALE   \n",
       "\n",
       "    Probationary Introl Full/Reserve Avengers Intro  Year  \\\n",
       "0                   NaN                      Sep-63  1963   \n",
       "1                   NaN                      Sep-63  1963   \n",
       "2                   NaN                      Sep-63  1963   \n",
       "3                   NaN                      Sep-63  1963   \n",
       "4                   NaN                      Sep-63  1963   \n",
       "..                  ...                         ...   ...   \n",
       "168                 NaN                      13-Nov  2013   \n",
       "169                 NaN                      14-Jan  2014   \n",
       "170                 NaN                      14-Jan  2014   \n",
       "171                 NaN                      14-Jan  2014   \n",
       "172                 NaN                      15-Jan  2015   \n",
       "\n",
       "     Years since joining Honorary  ... Return1 Death2 Return2 Death3 Return3  \\\n",
       "0                     52     Full  ...      NO    NaN     NaN    NaN     NaN   \n",
       "1                     52     Full  ...     YES    NaN     NaN    NaN     NaN   \n",
       "2                     52     Full  ...     YES    NaN     NaN    NaN     NaN   \n",
       "3                     52     Full  ...     YES    NaN     NaN    NaN     NaN   \n",
       "4                     52     Full  ...     YES    YES      NO    NaN     NaN   \n",
       "..                   ...      ...  ...     ...    ...     ...    ...     ...   \n",
       "168                    2     Full  ...     NaN    NaN     NaN    NaN     NaN   \n",
       "169                    1     Full  ...     NaN    NaN     NaN    NaN     NaN   \n",
       "170                    1     Full  ...     NaN    NaN     NaN    NaN     NaN   \n",
       "171                    1     Full  ...     NaN    NaN     NaN    NaN     NaN   \n",
       "172                    0     Full  ...     NaN    NaN     NaN    NaN     NaN   \n",
       "\n",
       "    Death4 Return4 Death5 Return5  \\\n",
       "0      NaN     NaN    NaN     NaN   \n",
       "1      NaN     NaN    NaN     NaN   \n",
       "2      NaN     NaN    NaN     NaN   \n",
       "3      NaN     NaN    NaN     NaN   \n",
       "4      NaN     NaN    NaN     NaN   \n",
       "..     ...     ...    ...     ...   \n",
       "168    NaN     NaN    NaN     NaN   \n",
       "169    NaN     NaN    NaN     NaN   \n",
       "170    NaN     NaN    NaN     NaN   \n",
       "171    NaN     NaN    NaN     NaN   \n",
       "172    NaN     NaN    NaN     NaN   \n",
       "\n",
       "                                                 Notes  \n",
       "0    Merged with Ultron in Rage of Ultron Vol. 1. A...  \n",
       "1    Dies in Secret Invasion V1:I8. Actually was se...  \n",
       "2    Death: \"Later while under the influence of Imm...  \n",
       "3    Dies in Ghosts of the Future arc. However \"he ...  \n",
       "4    Dies in Fear Itself brought back because that'...  \n",
       "..                                                 ...  \n",
       "168                                                NaN  \n",
       "169                                                NaN  \n",
       "170                                                NaN  \n",
       "171                                                NaN  \n",
       "172                                                NaN  \n",
       "\n",
       "[173 rows x 21 columns]"
      ]
     },
     "execution_count": 9,
     "metadata": {},
     "output_type": "execute_result"
    }
   ],
   "source": [
    "data"
   ]
  },
  {
   "cell_type": "markdown",
   "id": "7bb0ce3e",
   "metadata": {},
   "source": [
    "As you can see, the dataframe is nicely displayed as a table. If you use the `print()` function, the dataframe looks much less nice. "
   ]
  },
  {
   "cell_type": "code",
   "execution_count": 10,
   "id": "3583eff9",
   "metadata": {},
   "outputs": [
    {
     "name": "stdout",
     "output_type": "stream",
     "text": [
      "                                                   URL  \\\n",
      "0        http://marvel.wikia.com/Henry_Pym_(Earth-616)   \n",
      "1    http://marvel.wikia.com/Janet_van_Dyne_(Earth-...   \n",
      "2    http://marvel.wikia.com/Anthony_Stark_(Earth-616)   \n",
      "3    http://marvel.wikia.com/Robert_Bruce_Banner_(E...   \n",
      "4     http://marvel.wikia.com/Thor_Odinson_(Earth-616)   \n",
      "..                                                 ...   \n",
      "168   http://marvel.wikia.com/Eric_Brooks_(Earth-616)#   \n",
      "169  http://marvel.wikia.com/Adam_Brashear_(Earth-6...   \n",
      "170  http://marvel.wikia.com/Victor_Alvarez_(Earth-...   \n",
      "171     http://marvel.wikia.com/Ava_Ayala_(Earth-616)#   \n",
      "172         http://marvel.wikia.com/Kaluu_(Earth-616)#   \n",
      "\n",
      "                      Name/Alias  Appearances Current?  Gender  \\\n",
      "0      Henry Jonathan \"Hank\" Pym         1269      YES    MALE   \n",
      "1                 Janet van Dyne         1165      YES  FEMALE   \n",
      "2    Anthony Edward \"Tony\" Stark         3068      YES    MALE   \n",
      "3            Robert Bruce Banner         2089      YES    MALE   \n",
      "4                   Thor Odinson         2402      YES    MALE   \n",
      "..                           ...          ...      ...     ...   \n",
      "168                  Eric Brooks          198      YES    MALE   \n",
      "169                Adam Brashear           29      YES    MALE   \n",
      "170               Victor Alvarez           45      YES    MALE   \n",
      "171                    Ava Ayala           49      YES  FEMALE   \n",
      "172                        Kaluu           35      YES    MALE   \n",
      "\n",
      "    Probationary Introl Full/Reserve Avengers Intro  Year  \\\n",
      "0                   NaN                      Sep-63  1963   \n",
      "1                   NaN                      Sep-63  1963   \n",
      "2                   NaN                      Sep-63  1963   \n",
      "3                   NaN                      Sep-63  1963   \n",
      "4                   NaN                      Sep-63  1963   \n",
      "..                  ...                         ...   ...   \n",
      "168                 NaN                      13-Nov  2013   \n",
      "169                 NaN                      14-Jan  2014   \n",
      "170                 NaN                      14-Jan  2014   \n",
      "171                 NaN                      14-Jan  2014   \n",
      "172                 NaN                      15-Jan  2015   \n",
      "\n",
      "     Years since joining Honorary  ... Return1 Death2 Return2 Death3 Return3  \\\n",
      "0                     52     Full  ...      NO    NaN     NaN    NaN     NaN   \n",
      "1                     52     Full  ...     YES    NaN     NaN    NaN     NaN   \n",
      "2                     52     Full  ...     YES    NaN     NaN    NaN     NaN   \n",
      "3                     52     Full  ...     YES    NaN     NaN    NaN     NaN   \n",
      "4                     52     Full  ...     YES    YES      NO    NaN     NaN   \n",
      "..                   ...      ...  ...     ...    ...     ...    ...     ...   \n",
      "168                    2     Full  ...     NaN    NaN     NaN    NaN     NaN   \n",
      "169                    1     Full  ...     NaN    NaN     NaN    NaN     NaN   \n",
      "170                    1     Full  ...     NaN    NaN     NaN    NaN     NaN   \n",
      "171                    1     Full  ...     NaN    NaN     NaN    NaN     NaN   \n",
      "172                    0     Full  ...     NaN    NaN     NaN    NaN     NaN   \n",
      "\n",
      "    Death4 Return4 Death5 Return5  \\\n",
      "0      NaN     NaN    NaN     NaN   \n",
      "1      NaN     NaN    NaN     NaN   \n",
      "2      NaN     NaN    NaN     NaN   \n",
      "3      NaN     NaN    NaN     NaN   \n",
      "4      NaN     NaN    NaN     NaN   \n",
      "..     ...     ...    ...     ...   \n",
      "168    NaN     NaN    NaN     NaN   \n",
      "169    NaN     NaN    NaN     NaN   \n",
      "170    NaN     NaN    NaN     NaN   \n",
      "171    NaN     NaN    NaN     NaN   \n",
      "172    NaN     NaN    NaN     NaN   \n",
      "\n",
      "                                                 Notes  \n",
      "0    Merged with Ultron in Rage of Ultron Vol. 1. A...  \n",
      "1    Dies in Secret Invasion V1:I8. Actually was se...  \n",
      "2    Death: \"Later while under the influence of Imm...  \n",
      "3    Dies in Ghosts of the Future arc. However \"he ...  \n",
      "4    Dies in Fear Itself brought back because that'...  \n",
      "..                                                 ...  \n",
      "168                                                NaN  \n",
      "169                                                NaN  \n",
      "170                                                NaN  \n",
      "171                                                NaN  \n",
      "172                                                NaN  \n",
      "\n",
      "[173 rows x 21 columns]\n"
     ]
    }
   ],
   "source": [
    "print(data)"
   ]
  },
  {
   "cell_type": "markdown",
   "id": "795f4a63",
   "metadata": {},
   "source": [
    "Often, you don't need to check a lot of rows to check if everything is loaded correctly and to get an idea of the content. Therefore, you can use the `head()` and `tail()` functions to respectively look at only the top and the bottom rows. Between the brackets, you enter how many rows you want to display. "
   ]
  },
  {
   "cell_type": "code",
   "execution_count": 11,
   "id": "c6e89928",
   "metadata": {},
   "outputs": [
    {
     "data": {
      "text/html": [
       "<div>\n",
       "<style scoped>\n",
       "    .dataframe tbody tr th:only-of-type {\n",
       "        vertical-align: middle;\n",
       "    }\n",
       "\n",
       "    .dataframe tbody tr th {\n",
       "        vertical-align: top;\n",
       "    }\n",
       "\n",
       "    .dataframe thead th {\n",
       "        text-align: right;\n",
       "    }\n",
       "</style>\n",
       "<table border=\"1\" class=\"dataframe\">\n",
       "  <thead>\n",
       "    <tr style=\"text-align: right;\">\n",
       "      <th></th>\n",
       "      <th>URL</th>\n",
       "      <th>Name/Alias</th>\n",
       "      <th>Appearances</th>\n",
       "      <th>Current?</th>\n",
       "      <th>Gender</th>\n",
       "      <th>Probationary Introl</th>\n",
       "      <th>Full/Reserve Avengers Intro</th>\n",
       "      <th>Year</th>\n",
       "      <th>Years since joining</th>\n",
       "      <th>Honorary</th>\n",
       "      <th>...</th>\n",
       "      <th>Return1</th>\n",
       "      <th>Death2</th>\n",
       "      <th>Return2</th>\n",
       "      <th>Death3</th>\n",
       "      <th>Return3</th>\n",
       "      <th>Death4</th>\n",
       "      <th>Return4</th>\n",
       "      <th>Death5</th>\n",
       "      <th>Return5</th>\n",
       "      <th>Notes</th>\n",
       "    </tr>\n",
       "  </thead>\n",
       "  <tbody>\n",
       "    <tr>\n",
       "      <th>0</th>\n",
       "      <td>http://marvel.wikia.com/Henry_Pym_(Earth-616)</td>\n",
       "      <td>Henry Jonathan \"Hank\" Pym</td>\n",
       "      <td>1269</td>\n",
       "      <td>YES</td>\n",
       "      <td>MALE</td>\n",
       "      <td>NaN</td>\n",
       "      <td>Sep-63</td>\n",
       "      <td>1963</td>\n",
       "      <td>52</td>\n",
       "      <td>Full</td>\n",
       "      <td>...</td>\n",
       "      <td>NO</td>\n",
       "      <td>NaN</td>\n",
       "      <td>NaN</td>\n",
       "      <td>NaN</td>\n",
       "      <td>NaN</td>\n",
       "      <td>NaN</td>\n",
       "      <td>NaN</td>\n",
       "      <td>NaN</td>\n",
       "      <td>NaN</td>\n",
       "      <td>Merged with Ultron in Rage of Ultron Vol. 1. A...</td>\n",
       "    </tr>\n",
       "    <tr>\n",
       "      <th>1</th>\n",
       "      <td>http://marvel.wikia.com/Janet_van_Dyne_(Earth-...</td>\n",
       "      <td>Janet van Dyne</td>\n",
       "      <td>1165</td>\n",
       "      <td>YES</td>\n",
       "      <td>FEMALE</td>\n",
       "      <td>NaN</td>\n",
       "      <td>Sep-63</td>\n",
       "      <td>1963</td>\n",
       "      <td>52</td>\n",
       "      <td>Full</td>\n",
       "      <td>...</td>\n",
       "      <td>YES</td>\n",
       "      <td>NaN</td>\n",
       "      <td>NaN</td>\n",
       "      <td>NaN</td>\n",
       "      <td>NaN</td>\n",
       "      <td>NaN</td>\n",
       "      <td>NaN</td>\n",
       "      <td>NaN</td>\n",
       "      <td>NaN</td>\n",
       "      <td>Dies in Secret Invasion V1:I8. Actually was se...</td>\n",
       "    </tr>\n",
       "    <tr>\n",
       "      <th>2</th>\n",
       "      <td>http://marvel.wikia.com/Anthony_Stark_(Earth-616)</td>\n",
       "      <td>Anthony Edward \"Tony\" Stark</td>\n",
       "      <td>3068</td>\n",
       "      <td>YES</td>\n",
       "      <td>MALE</td>\n",
       "      <td>NaN</td>\n",
       "      <td>Sep-63</td>\n",
       "      <td>1963</td>\n",
       "      <td>52</td>\n",
       "      <td>Full</td>\n",
       "      <td>...</td>\n",
       "      <td>YES</td>\n",
       "      <td>NaN</td>\n",
       "      <td>NaN</td>\n",
       "      <td>NaN</td>\n",
       "      <td>NaN</td>\n",
       "      <td>NaN</td>\n",
       "      <td>NaN</td>\n",
       "      <td>NaN</td>\n",
       "      <td>NaN</td>\n",
       "      <td>Death: \"Later while under the influence of Imm...</td>\n",
       "    </tr>\n",
       "    <tr>\n",
       "      <th>3</th>\n",
       "      <td>http://marvel.wikia.com/Robert_Bruce_Banner_(E...</td>\n",
       "      <td>Robert Bruce Banner</td>\n",
       "      <td>2089</td>\n",
       "      <td>YES</td>\n",
       "      <td>MALE</td>\n",
       "      <td>NaN</td>\n",
       "      <td>Sep-63</td>\n",
       "      <td>1963</td>\n",
       "      <td>52</td>\n",
       "      <td>Full</td>\n",
       "      <td>...</td>\n",
       "      <td>YES</td>\n",
       "      <td>NaN</td>\n",
       "      <td>NaN</td>\n",
       "      <td>NaN</td>\n",
       "      <td>NaN</td>\n",
       "      <td>NaN</td>\n",
       "      <td>NaN</td>\n",
       "      <td>NaN</td>\n",
       "      <td>NaN</td>\n",
       "      <td>Dies in Ghosts of the Future arc. However \"he ...</td>\n",
       "    </tr>\n",
       "  </tbody>\n",
       "</table>\n",
       "<p>4 rows × 21 columns</p>\n",
       "</div>"
      ],
      "text/plain": [
       "                                                 URL  \\\n",
       "0      http://marvel.wikia.com/Henry_Pym_(Earth-616)   \n",
       "1  http://marvel.wikia.com/Janet_van_Dyne_(Earth-...   \n",
       "2  http://marvel.wikia.com/Anthony_Stark_(Earth-616)   \n",
       "3  http://marvel.wikia.com/Robert_Bruce_Banner_(E...   \n",
       "\n",
       "                    Name/Alias  Appearances Current?  Gender  \\\n",
       "0    Henry Jonathan \"Hank\" Pym         1269      YES    MALE   \n",
       "1               Janet van Dyne         1165      YES  FEMALE   \n",
       "2  Anthony Edward \"Tony\" Stark         3068      YES    MALE   \n",
       "3          Robert Bruce Banner         2089      YES    MALE   \n",
       "\n",
       "  Probationary Introl Full/Reserve Avengers Intro  Year  Years since joining  \\\n",
       "0                 NaN                      Sep-63  1963                   52   \n",
       "1                 NaN                      Sep-63  1963                   52   \n",
       "2                 NaN                      Sep-63  1963                   52   \n",
       "3                 NaN                      Sep-63  1963                   52   \n",
       "\n",
       "  Honorary  ... Return1 Death2 Return2 Death3 Return3 Death4 Return4 Death5  \\\n",
       "0     Full  ...      NO    NaN     NaN    NaN     NaN    NaN     NaN    NaN   \n",
       "1     Full  ...     YES    NaN     NaN    NaN     NaN    NaN     NaN    NaN   \n",
       "2     Full  ...     YES    NaN     NaN    NaN     NaN    NaN     NaN    NaN   \n",
       "3     Full  ...     YES    NaN     NaN    NaN     NaN    NaN     NaN    NaN   \n",
       "\n",
       "  Return5                                              Notes  \n",
       "0     NaN  Merged with Ultron in Rage of Ultron Vol. 1. A...  \n",
       "1     NaN  Dies in Secret Invasion V1:I8. Actually was se...  \n",
       "2     NaN  Death: \"Later while under the influence of Imm...  \n",
       "3     NaN  Dies in Ghosts of the Future arc. However \"he ...  \n",
       "\n",
       "[4 rows x 21 columns]"
      ]
     },
     "execution_count": 11,
     "metadata": {},
     "output_type": "execute_result"
    }
   ],
   "source": [
    "data.head(4)"
   ]
  },
  {
   "cell_type": "code",
   "execution_count": 12,
   "id": "ce2064e2",
   "metadata": {},
   "outputs": [
    {
     "data": {
      "text/html": [
       "<div>\n",
       "<style scoped>\n",
       "    .dataframe tbody tr th:only-of-type {\n",
       "        vertical-align: middle;\n",
       "    }\n",
       "\n",
       "    .dataframe tbody tr th {\n",
       "        vertical-align: top;\n",
       "    }\n",
       "\n",
       "    .dataframe thead th {\n",
       "        text-align: right;\n",
       "    }\n",
       "</style>\n",
       "<table border=\"1\" class=\"dataframe\">\n",
       "  <thead>\n",
       "    <tr style=\"text-align: right;\">\n",
       "      <th></th>\n",
       "      <th>URL</th>\n",
       "      <th>Name/Alias</th>\n",
       "      <th>Appearances</th>\n",
       "      <th>Current?</th>\n",
       "      <th>Gender</th>\n",
       "      <th>Probationary Introl</th>\n",
       "      <th>Full/Reserve Avengers Intro</th>\n",
       "      <th>Year</th>\n",
       "      <th>Years since joining</th>\n",
       "      <th>Honorary</th>\n",
       "      <th>...</th>\n",
       "      <th>Return1</th>\n",
       "      <th>Death2</th>\n",
       "      <th>Return2</th>\n",
       "      <th>Death3</th>\n",
       "      <th>Return3</th>\n",
       "      <th>Death4</th>\n",
       "      <th>Return4</th>\n",
       "      <th>Death5</th>\n",
       "      <th>Return5</th>\n",
       "      <th>Notes</th>\n",
       "    </tr>\n",
       "  </thead>\n",
       "  <tbody>\n",
       "    <tr>\n",
       "      <th>169</th>\n",
       "      <td>http://marvel.wikia.com/Adam_Brashear_(Earth-6...</td>\n",
       "      <td>Adam Brashear</td>\n",
       "      <td>29</td>\n",
       "      <td>YES</td>\n",
       "      <td>MALE</td>\n",
       "      <td>NaN</td>\n",
       "      <td>14-Jan</td>\n",
       "      <td>2014</td>\n",
       "      <td>1</td>\n",
       "      <td>Full</td>\n",
       "      <td>...</td>\n",
       "      <td>NaN</td>\n",
       "      <td>NaN</td>\n",
       "      <td>NaN</td>\n",
       "      <td>NaN</td>\n",
       "      <td>NaN</td>\n",
       "      <td>NaN</td>\n",
       "      <td>NaN</td>\n",
       "      <td>NaN</td>\n",
       "      <td>NaN</td>\n",
       "      <td>NaN</td>\n",
       "    </tr>\n",
       "    <tr>\n",
       "      <th>170</th>\n",
       "      <td>http://marvel.wikia.com/Victor_Alvarez_(Earth-...</td>\n",
       "      <td>Victor Alvarez</td>\n",
       "      <td>45</td>\n",
       "      <td>YES</td>\n",
       "      <td>MALE</td>\n",
       "      <td>NaN</td>\n",
       "      <td>14-Jan</td>\n",
       "      <td>2014</td>\n",
       "      <td>1</td>\n",
       "      <td>Full</td>\n",
       "      <td>...</td>\n",
       "      <td>NaN</td>\n",
       "      <td>NaN</td>\n",
       "      <td>NaN</td>\n",
       "      <td>NaN</td>\n",
       "      <td>NaN</td>\n",
       "      <td>NaN</td>\n",
       "      <td>NaN</td>\n",
       "      <td>NaN</td>\n",
       "      <td>NaN</td>\n",
       "      <td>NaN</td>\n",
       "    </tr>\n",
       "    <tr>\n",
       "      <th>171</th>\n",
       "      <td>http://marvel.wikia.com/Ava_Ayala_(Earth-616)#</td>\n",
       "      <td>Ava Ayala</td>\n",
       "      <td>49</td>\n",
       "      <td>YES</td>\n",
       "      <td>FEMALE</td>\n",
       "      <td>NaN</td>\n",
       "      <td>14-Jan</td>\n",
       "      <td>2014</td>\n",
       "      <td>1</td>\n",
       "      <td>Full</td>\n",
       "      <td>...</td>\n",
       "      <td>NaN</td>\n",
       "      <td>NaN</td>\n",
       "      <td>NaN</td>\n",
       "      <td>NaN</td>\n",
       "      <td>NaN</td>\n",
       "      <td>NaN</td>\n",
       "      <td>NaN</td>\n",
       "      <td>NaN</td>\n",
       "      <td>NaN</td>\n",
       "      <td>NaN</td>\n",
       "    </tr>\n",
       "    <tr>\n",
       "      <th>172</th>\n",
       "      <td>http://marvel.wikia.com/Kaluu_(Earth-616)#</td>\n",
       "      <td>Kaluu</td>\n",
       "      <td>35</td>\n",
       "      <td>YES</td>\n",
       "      <td>MALE</td>\n",
       "      <td>NaN</td>\n",
       "      <td>15-Jan</td>\n",
       "      <td>2015</td>\n",
       "      <td>0</td>\n",
       "      <td>Full</td>\n",
       "      <td>...</td>\n",
       "      <td>NaN</td>\n",
       "      <td>NaN</td>\n",
       "      <td>NaN</td>\n",
       "      <td>NaN</td>\n",
       "      <td>NaN</td>\n",
       "      <td>NaN</td>\n",
       "      <td>NaN</td>\n",
       "      <td>NaN</td>\n",
       "      <td>NaN</td>\n",
       "      <td>NaN</td>\n",
       "    </tr>\n",
       "  </tbody>\n",
       "</table>\n",
       "<p>4 rows × 21 columns</p>\n",
       "</div>"
      ],
      "text/plain": [
       "                                                   URL      Name/Alias  \\\n",
       "169  http://marvel.wikia.com/Adam_Brashear_(Earth-6...   Adam Brashear   \n",
       "170  http://marvel.wikia.com/Victor_Alvarez_(Earth-...  Victor Alvarez   \n",
       "171     http://marvel.wikia.com/Ava_Ayala_(Earth-616)#       Ava Ayala   \n",
       "172         http://marvel.wikia.com/Kaluu_(Earth-616)#           Kaluu   \n",
       "\n",
       "     Appearances Current?  Gender Probationary Introl  \\\n",
       "169           29      YES    MALE                 NaN   \n",
       "170           45      YES    MALE                 NaN   \n",
       "171           49      YES  FEMALE                 NaN   \n",
       "172           35      YES    MALE                 NaN   \n",
       "\n",
       "    Full/Reserve Avengers Intro  Year  Years since joining Honorary  ...  \\\n",
       "169                      14-Jan  2014                    1     Full  ...   \n",
       "170                      14-Jan  2014                    1     Full  ...   \n",
       "171                      14-Jan  2014                    1     Full  ...   \n",
       "172                      15-Jan  2015                    0     Full  ...   \n",
       "\n",
       "    Return1 Death2 Return2 Death3 Return3 Death4 Return4 Death5 Return5 Notes  \n",
       "169     NaN    NaN     NaN    NaN     NaN    NaN     NaN    NaN     NaN   NaN  \n",
       "170     NaN    NaN     NaN    NaN     NaN    NaN     NaN    NaN     NaN   NaN  \n",
       "171     NaN    NaN     NaN    NaN     NaN    NaN     NaN    NaN     NaN   NaN  \n",
       "172     NaN    NaN     NaN    NaN     NaN    NaN     NaN    NaN     NaN   NaN  \n",
       "\n",
       "[4 rows x 21 columns]"
      ]
     },
     "execution_count": 12,
     "metadata": {},
     "output_type": "execute_result"
    }
   ],
   "source": [
    "data.tail(4)"
   ]
  },
  {
   "cell_type": "markdown",
   "id": "39af7a50",
   "metadata": {},
   "source": [
    "As you can see, not all columns are visible. The `...` between the column *Honorary* and *Return1* indicates that there are more columns then shown. You can print a list of all the columns with the `columns.tolist()` function, as shown in the following code:"
   ]
  },
  {
   "cell_type": "code",
   "execution_count": 13,
   "id": "d541a503",
   "metadata": {},
   "outputs": [
    {
     "name": "stdout",
     "output_type": "stream",
     "text": [
      "['URL', 'Name/Alias', 'Appearances', 'Current?', 'Gender', 'Probationary Introl', 'Full/Reserve Avengers Intro', 'Year', 'Years since joining', 'Honorary', 'Death1', 'Return1', 'Death2', 'Return2', 'Death3', 'Return3', 'Death4', 'Return4', 'Death5', 'Return5', 'Notes']\n"
     ]
    }
   ],
   "source": [
    "print(data.columns.tolist())"
   ]
  },
  {
   "cell_type": "markdown",
   "id": "392afd79",
   "metadata": {},
   "source": [
    "We also see that there are some columns with categorial content, such as the `honorary` and `gender` columns. To see which categories are in there, we can print an array with the unique values, by using the function `unique()`. "
   ]
  },
  {
   "cell_type": "code",
   "execution_count": 14,
   "id": "918ae571",
   "metadata": {},
   "outputs": [
    {
     "data": {
      "text/plain": [
       "array(['Full', 'Honorary', 'Probationary', 'Academy'], dtype=object)"
      ]
     },
     "execution_count": 14,
     "metadata": {},
     "output_type": "execute_result"
    }
   ],
   "source": [
    "data.Honorary.unique()"
   ]
  },
  {
   "cell_type": "markdown",
   "id": "38a6c1fc",
   "metadata": {},
   "source": [
    "**Excercise** <br>\n",
    "Use the unique() function to show the categories in the column `gender`"
   ]
  },
  {
   "cell_type": "code",
   "execution_count": 15,
   "id": "e1bd919c",
   "metadata": {},
   "outputs": [],
   "source": [
    "### Write the exercise code below and run the cell"
   ]
  },
  {
   "cell_type": "markdown",
   "id": "7b310337",
   "metadata": {},
   "source": [
    "### Basic statistics"
   ]
  },
  {
   "cell_type": "markdown",
   "id": "dba015bf",
   "metadata": {},
   "source": [
    "We can use the pandas packages to get some basis statistics from our data.\n",
    "We can, for example:\n",
    "* Count the number of occurences per category,\n",
    "* Display the minimum and maximum values of numerical input\n",
    "* Calculate other statistics such as the mean and median\n",
    "\n",
    "This information can be used to get a better understanding of the data, but also for things like quality checks. \n",
    "\n",
    "We start with the function `value_counts()`. This function counts for every unique category in a column how many times it appears in the dataframe. The syntax is `dataframe.columnname.value_counts()`. \n",
    "\n",
    "We can use this, for example, to count the number of male and female Avengers."
   ]
  },
  {
   "cell_type": "code",
   "execution_count": 16,
   "id": "ff81ee0e",
   "metadata": {},
   "outputs": [
    {
     "data": {
      "text/plain": [
       "MALE      115\n",
       "FEMALE     58\n",
       "Name: Gender, dtype: int64"
      ]
     },
     "execution_count": 16,
     "metadata": {},
     "output_type": "execute_result"
    }
   ],
   "source": [
    "data.Gender.value_counts()"
   ]
  },
  {
   "cell_type": "markdown",
   "id": "60381e1d",
   "metadata": {},
   "source": [
    "We can also see how many died"
   ]
  },
  {
   "cell_type": "code",
   "execution_count": 17,
   "id": "bdb1b346",
   "metadata": {},
   "outputs": [
    {
     "data": {
      "text/plain": [
       "NO     104\n",
       "YES     69\n",
       "Name: Death1, dtype: int64"
      ]
     },
     "execution_count": 17,
     "metadata": {},
     "output_type": "execute_result"
    }
   ],
   "source": [
    "data.Death1.value_counts()"
   ]
  },
  {
   "cell_type": "markdown",
   "id": "a653ab3f",
   "metadata": {},
   "source": [
    "And how many returned from their death. "
   ]
  },
  {
   "cell_type": "code",
   "execution_count": 18,
   "id": "5c077e23",
   "metadata": {},
   "outputs": [
    {
     "data": {
      "text/plain": [
       "YES    46\n",
       "NO     23\n",
       "Name: Return1, dtype: int64"
      ]
     },
     "execution_count": 18,
     "metadata": {},
     "output_type": "execute_result"
    }
   ],
   "source": [
    "data.Return1.value_counts()"
   ]
  },
  {
   "cell_type": "markdown",
   "id": "17073128",
   "metadata": {},
   "source": [
    "Those who play close attention have likely noticed something strange in the results above. There are 173 entries in the database (NB: Python start counting from zero!). But 46+23 != 173. \n",
    "\n",
    "What happened to the rest? As you can see in the dataframe, there are a lot of NaN (not a number) values. The value_counts() functions ignores these values as default. If we want to also included the amount of NaN values, we need to explicitly tell the function to do so. We can do this bij setting the argument 'dropna' to False. "
   ]
  },
  {
   "cell_type": "code",
   "execution_count": 19,
   "id": "3c2b8488",
   "metadata": {},
   "outputs": [
    {
     "data": {
      "text/plain": [
       "NaN    104\n",
       "YES     46\n",
       "NO      23\n",
       "Name: Return1, dtype: int64"
      ]
     },
     "execution_count": 19,
     "metadata": {},
     "output_type": "execute_result"
    }
   ],
   "source": [
    "data.Return1.value_counts(dropna = False)"
   ]
  },
  {
   "cell_type": "markdown",
   "id": "82936698",
   "metadata": {},
   "source": [
    "**Excerise** <br>\n",
    "Count the number of Avengers that have died a second time. Use the `value_counts()` function and the column `Death2`. Make sure that the Nan values are also counted."
   ]
  },
  {
   "cell_type": "code",
   "execution_count": 20,
   "id": "d1d82faa",
   "metadata": {},
   "outputs": [],
   "source": [
    "### Write the exercise code below and run the cell"
   ]
  },
  {
   "cell_type": "markdown",
   "id": "7d2a2f47",
   "metadata": {},
   "source": [
    "Apart from basic counting, we can also use Pythons inbuilt `min()` en `max()` functions to determine the minimum en maximum values of a column. \n",
    "\n",
    "We can use this to see in which year the first avenger joined:"
   ]
  },
  {
   "cell_type": "code",
   "execution_count": 21,
   "id": "28319b1a",
   "metadata": {},
   "outputs": [
    {
     "data": {
      "text/plain": [
       "1900"
      ]
     },
     "execution_count": 21,
     "metadata": {},
     "output_type": "execute_result"
    }
   ],
   "source": [
    "min(data.Year)"
   ]
  },
  {
   "cell_type": "markdown",
   "id": "af8a0f12",
   "metadata": {},
   "source": [
    "And in which year the last:"
   ]
  },
  {
   "cell_type": "code",
   "execution_count": 22,
   "id": "5ca4e426",
   "metadata": {},
   "outputs": [
    {
     "data": {
      "text/plain": [
       "2015"
      ]
     },
     "execution_count": 22,
     "metadata": {},
     "output_type": "execute_result"
    }
   ],
   "source": [
    "max(data.Year)"
   ]
  },
  {
   "cell_type": "markdown",
   "id": "b9bcf9d2",
   "metadata": {},
   "source": [
    "In the examples above, the syntax for calling a column was as follows: `dataframe.columname`. <br>\n",
    "This works fine as long as the column name doesn't have any spaces or symbols. However, for columns such as `Name/Alias` and `Years since joining`, this syntax results in an error. "
   ]
  },
  {
   "cell_type": "code",
   "execution_count": 23,
   "id": "893bdb18",
   "metadata": {},
   "outputs": [
    {
     "ename": "SyntaxError",
     "evalue": "invalid syntax (2228882314.py, line 1)",
     "output_type": "error",
     "traceback": [
      "\u001b[1;36m  Input \u001b[1;32mIn [23]\u001b[1;36m\u001b[0m\n\u001b[1;33m    min(data.Years since joining)\u001b[0m\n\u001b[1;37m                   ^\u001b[0m\n\u001b[1;31mSyntaxError\u001b[0m\u001b[1;31m:\u001b[0m invalid syntax\n"
     ]
    }
   ],
   "source": [
    "min(data.Years since joining)"
   ]
  },
  {
   "cell_type": "markdown",
   "id": "dd358bc3",
   "metadata": {},
   "source": [
    "Therefore, there is another syntax that can be used to omit this problem. This is done simply by removing the dot and putting the column name in squared brackets and quotes: `dataframe[columnname]`"
   ]
  },
  {
   "cell_type": "code",
   "execution_count": 24,
   "id": "634ffa7e",
   "metadata": {},
   "outputs": [
    {
     "data": {
      "text/plain": [
       "0"
      ]
     },
     "execution_count": 24,
     "metadata": {},
     "output_type": "execute_result"
    }
   ],
   "source": [
    "min(data['Years since joining'])"
   ]
  },
  {
   "cell_type": "markdown",
   "id": "fe096419",
   "metadata": {},
   "source": [
    "This version can be used on all columns, as you can see in the example below. "
   ]
  },
  {
   "cell_type": "code",
   "execution_count": 25,
   "id": "cda76722",
   "metadata": {},
   "outputs": [
    {
     "data": {
      "text/plain": [
       "1900"
      ]
     },
     "execution_count": 25,
     "metadata": {},
     "output_type": "execute_result"
    }
   ],
   "source": [
    "min(data['Year'])"
   ]
  },
  {
   "cell_type": "markdown",
   "id": "b185e424",
   "metadata": {},
   "source": [
    "**Excercise** <br>\n",
    "Use the appropriate function to see the maximum number a years an Avenger is part of the Avengers by using the column `Years since joining`."
   ]
  },
  {
   "cell_type": "code",
   "execution_count": 26,
   "id": "ece29948",
   "metadata": {},
   "outputs": [],
   "source": [
    "### Write the exercise code below and run the cell"
   ]
  },
  {
   "cell_type": "markdown",
   "id": "ffc37095",
   "metadata": {},
   "source": [
    "You can also use the `mean()` and `median()` functions on numerical columns. "
   ]
  },
  {
   "cell_type": "code",
   "execution_count": 27,
   "id": "e66edd4d",
   "metadata": {},
   "outputs": [
    {
     "data": {
      "text/plain": [
       "26.55491329479769"
      ]
     },
     "execution_count": 27,
     "metadata": {},
     "output_type": "execute_result"
    }
   ],
   "source": [
    "data['Years since joining'].mean()"
   ]
  },
  {
   "cell_type": "code",
   "execution_count": 28,
   "id": "57bea5e9",
   "metadata": {},
   "outputs": [
    {
     "data": {
      "text/plain": [
       "19.0"
      ]
     },
     "execution_count": 28,
     "metadata": {},
     "output_type": "execute_result"
    }
   ],
   "source": [
    "data['Years since joining'].median()"
   ]
  },
  {
   "cell_type": "markdown",
   "id": "a11c2132",
   "metadata": {},
   "source": [
    "As you can see, there is a rather big difference between the mean and median. This means the values are not evenly spread between the min and max value. This can be important information if you want to perform further analysis on the data! "
   ]
  },
  {
   "cell_type": "markdown",
   "id": "cf2d2a1f",
   "metadata": {},
   "source": [
    "**Excersice** <br>\n",
    "Calculate the mean and median of the column `Appearences`. Is there a big difference between the two?"
   ]
  },
  {
   "cell_type": "code",
   "execution_count": 33,
   "id": "6ddfcbe2",
   "metadata": {},
   "outputs": [],
   "source": [
    "### Write the exercise code below and run the cell"
   ]
  },
  {
   "cell_type": "markdown",
   "id": "23767083",
   "metadata": {},
   "source": [
    "## Visualisations\n",
    "\n",
    "The output from `value_counts()` can also be displayed in graphs. Here are two examples. Graphs can be made with pandas, or with specific visualisation packages such as [Plotly](https://plotly.com/python/), [Matplotlib](https://matplotlib.org/) or [Seaborn](https://seaborn.pydata.org/). \n",
    "\n",
    "In this introduction, we use the pandas visualisation options. "
   ]
  },
  {
   "cell_type": "markdown",
   "id": "fe610198",
   "metadata": {},
   "source": [
    "We first store the output of the `value_counts()` function in the variable `gender`, and then we plot the output in a barchart. "
   ]
  },
  {
   "cell_type": "code",
   "execution_count": 40,
   "id": "4043595b",
   "metadata": {},
   "outputs": [
    {
     "data": {
      "text/plain": [
       "<AxesSubplot:>"
      ]
     },
     "execution_count": 40,
     "metadata": {},
     "output_type": "execute_result"
    },
    {
     "data": {
      "image/png": "[encoded data removed]",
      "text/plain": [
       "<Figure size 432x288 with 1 Axes>"
      ]
     },
     "metadata": {
      "needs_background": "light"
     },
     "output_type": "display_data"
    }
   ],
   "source": [
    "gender = data.Gender.value_counts()\n",
    "gender.plot(kind = 'bar')"
   ]
  },
  {
   "cell_type": "markdown",
   "id": "3387bd28",
   "metadata": {},
   "source": [
    "Or a pie chart. "
   ]
  },
  {
   "cell_type": "code",
   "execution_count": 41,
   "id": "e020ace2",
   "metadata": {},
   "outputs": [
    {
     "data": {
      "text/plain": [
       "<AxesSubplot:ylabel='Gender'>"
      ]
     },
     "execution_count": 41,
     "metadata": {},
     "output_type": "execute_result"
    },
    {
     "data": {
      "image/png": "[encoded data removed]",
      "text/plain": [
       "<Figure size 432x288 with 1 Axes>"
      ]
     },
     "metadata": {},
     "output_type": "display_data"
    }
   ],
   "source": [
    "gender.plot(kind = 'pie')"
   ]
  },
  {
   "cell_type": "markdown",
   "id": "7a68b5d0",
   "metadata": {},
   "source": [
    "**Excersise** <br>\n",
    "Plot a graph that shows the output from the `values_counts()` function from the column `Honorary`. \n",
    "You can either choose a barchart of a pie chart, of display both!"
   ]
  },
  {
   "cell_type": "code",
   "execution_count": 37,
   "id": "cb6b764c",
   "metadata": {},
   "outputs": [],
   "source": [
    "### Write the exercise code below and run the cell"
   ]
  },
  {
   "cell_type": "markdown",
   "id": "76902201",
   "metadata": {},
   "source": [
    "# Filter the dataframe"
   ]
  },
  {
   "cell_type": "markdown",
   "id": "8f2d8e58",
   "metadata": {},
   "source": [
    "Sometimes you want to filter your dataframe to zoom in on more specific parts. \n",
    "There are various ways of filtering a dataframe, and in this tutorial we demonstrate the most straight forward method. \n",
    "\n",
    "If you plan on working more with dataframes, I encourage you to look up the .loc and .iloc methods for filtering. \n",
    "\n",
    "For now, we fill filter without those methods. The syntax we use is: `dataframe[dataframe['columnname'] <comparator>]`"
   ]
  },
  {
   "cell_type": "markdown",
   "id": "587ba526",
   "metadata": {},
   "source": [
    "If you look at the columns, you can see that some Avengers apparantly died and then returned from their death. And for some, this happened multiple times, hence the columns `Death2`, `Return2`, `Death3`, `Return3` etcetera. \n",
    "\n",
    "The maximum amount of times an Avenger revived from the death was 5 times, as we have five `Return` columns. So lets filter the dataframe and see which Avengers are indestructable:"
   ]
  },
  {
   "cell_type": "code",
   "execution_count": 39,
   "id": "7e0331c0",
   "metadata": {},
   "outputs": [
    {
     "data": {
      "text/html": [
       "<div>\n",
       "<style scoped>\n",
       "    .dataframe tbody tr th:only-of-type {\n",
       "        vertical-align: middle;\n",
       "    }\n",
       "\n",
       "    .dataframe tbody tr th {\n",
       "        vertical-align: top;\n",
       "    }\n",
       "\n",
       "    .dataframe thead th {\n",
       "        text-align: right;\n",
       "    }\n",
       "</style>\n",
       "<table border=\"1\" class=\"dataframe\">\n",
       "  <thead>\n",
       "    <tr style=\"text-align: right;\">\n",
       "      <th></th>\n",
       "      <th>URL</th>\n",
       "      <th>Name/Alias</th>\n",
       "      <th>Appearances</th>\n",
       "      <th>Current?</th>\n",
       "      <th>Gender</th>\n",
       "      <th>Probationary Introl</th>\n",
       "      <th>Full/Reserve Avengers Intro</th>\n",
       "      <th>Year</th>\n",
       "      <th>Years since joining</th>\n",
       "      <th>Honorary</th>\n",
       "      <th>...</th>\n",
       "      <th>Return1</th>\n",
       "      <th>Death2</th>\n",
       "      <th>Return2</th>\n",
       "      <th>Death3</th>\n",
       "      <th>Return3</th>\n",
       "      <th>Death4</th>\n",
       "      <th>Return4</th>\n",
       "      <th>Death5</th>\n",
       "      <th>Return5</th>\n",
       "      <th>Notes</th>\n",
       "    </tr>\n",
       "  </thead>\n",
       "  <tbody>\n",
       "    <tr>\n",
       "      <th>32</th>\n",
       "      <td>http://marvel.wikia.com/Jocasta_(Earth-616)#</td>\n",
       "      <td>Jocasta</td>\n",
       "      <td>141</td>\n",
       "      <td>YES</td>\n",
       "      <td>FEMALE</td>\n",
       "      <td>Jul-80</td>\n",
       "      <td>Nov-88</td>\n",
       "      <td>1988</td>\n",
       "      <td>27</td>\n",
       "      <td>Full</td>\n",
       "      <td>...</td>\n",
       "      <td>YES</td>\n",
       "      <td>YES</td>\n",
       "      <td>YES</td>\n",
       "      <td>YES</td>\n",
       "      <td>YES</td>\n",
       "      <td>YES</td>\n",
       "      <td>YES</td>\n",
       "      <td>YES</td>\n",
       "      <td>YES</td>\n",
       "      <td>From her article: Death1: \"Defeated Ultron and...</td>\n",
       "    </tr>\n",
       "  </tbody>\n",
       "</table>\n",
       "<p>1 rows × 21 columns</p>\n",
       "</div>"
      ],
      "text/plain": [
       "                                             URL Name/Alias  Appearances  \\\n",
       "32  http://marvel.wikia.com/Jocasta_(Earth-616)#    Jocasta          141   \n",
       "\n",
       "   Current?  Gender Probationary Introl Full/Reserve Avengers Intro  Year  \\\n",
       "32      YES  FEMALE              Jul-80                      Nov-88  1988   \n",
       "\n",
       "    Years since joining Honorary  ... Return1 Death2 Return2 Death3 Return3  \\\n",
       "32                   27     Full  ...     YES    YES     YES    YES     YES   \n",
       "\n",
       "   Death4 Return4 Death5 Return5  \\\n",
       "32    YES     YES    YES     YES   \n",
       "\n",
       "                                                Notes  \n",
       "32  From her article: Death1: \"Defeated Ultron and...  \n",
       "\n",
       "[1 rows x 21 columns]"
      ]
     },
     "execution_count": 39,
     "metadata": {},
     "output_type": "execute_result"
    }
   ],
   "source": [
    "data[data['Return5'] == 'YES']"
   ]
  },
  {
   "cell_type": "markdown",
   "id": "61b2863c",
   "metadata": {},
   "source": [
    "**Excerise** <br>\n",
    "In one of the exercises above, you found the maximum number of years in the column `Years since joining`.  Use this number to filter the dataframe on the column `Years since joining` to find out which Avenger has been with the Avengers the longest!\n",
    "\n",
    "***hint***: \n",
    "When using a comparator with a number, the number does *not* get quotes around it!"
   ]
  },
  {
   "cell_type": "code",
   "execution_count": 1,
   "id": "90ea68ae",
   "metadata": {},
   "outputs": [],
   "source": [
    "### Write the exercise code below and run the cell"
   ]
  },
  {
   "cell_type": "markdown",
   "id": "9eb02d67",
   "metadata": {},
   "source": [
    "## The end\n",
    "\n",
    "This is the end of this introduction. Good luck and have fun at the summerschool! "
   ]
  }
 ],
 "metadata": {
  "kernelspec": {
   "display_name": "Python 3 (ipykernel)",
   "language": "python",
   "name": "python3"
  },
  "language_info": {
   "codemirror_mode": {
    "name": "ipython",
    "version": 3
   },
   "file_extension": ".py",
   "mimetype": "text/x-python",
   "name": "python",
   "nbconvert_exporter": "python",
   "pygments_lexer": "ipython3",
   "version": "3.9.12"
  }
 },
 "nbformat": 4,
 "nbformat_minor": 5
}
