{
 "cells": [
  {
   "cell_type": "markdown",
   "metadata": {},
   "source": [
    "# Introduction to Python, part 2\n",
    "\n",
    "This Notebook is a combination of parts of the Notebooks from [**Arpit Omprakash, Byte Sized Code**](https://github.com/arpit-omprakash/Byte-Sized-Code/blob/master/Python-Notebooks/1.Basic%20Python%20Syntax.ipynb) and the [**XML workshop**](https://kbnlresearch.github.io/xml-workshop/intro.html).\n",
    "\n",
    "To make sure that the Notebook works properly, please make sure you run all the code cells you encounter. "
   ]
  },
  {
   "cell_type": "markdown",
   "metadata": {},
   "source": [
    "### Conditional statements, if else"
   ]
  },
  {
   "cell_type": "markdown",
   "metadata": {},
   "source": [
    "Now that we know about comparators and booleans, we can construct something called branches.  \n",
    "A branch in a program is basically a point where we can evaluate a certain condition and proceed based on how the condition evaluates.\n",
    "\n",
    "We use \"if\" statements in python to create branches.  \n",
    "These work like they do in real life.  \n",
    "``` \n",
    "if condition is true:\n",
    "        do something\n",
    "```\n",
    "That is also basically how we define an if statement. The following example will make things clear. "
   ]
  },
  {
   "cell_type": "code",
   "execution_count": 68,
   "metadata": {},
   "outputs": [
    {
     "name": "stdout",
     "output_type": "stream",
     "text": [
      "Lunch!\n"
     ]
    }
   ],
   "source": [
    "mood = 'hungry'\n",
    "\n",
    "if mood == 'hungry':\n",
    "\tprint(\"Lunch!\")"
   ]
  },
  {
   "cell_type": "code",
   "execution_count": 69,
   "metadata": {},
   "outputs": [],
   "source": [
    "mood =  \"not hungry\"\n",
    "\n",
    "if mood == 'hungry':\n",
    "\tprint(\"Lunch!\")"
   ]
  },
  {
   "cell_type": "markdown",
   "metadata": {},
   "source": [
    "In the first example, where 'mood' is hungry, Python executes the command stated in the 'if' function. For the second example, the if condition is not satisfied, thus there is no output. \n",
    "\n",
    "How can we change that?  \n",
    "We can extend our `if` statement with an `else` block. The else block executes only when the `if` condition is declared as `False`."
   ]
  },
  {
   "cell_type": "code",
   "execution_count": 75,
   "metadata": {},
   "outputs": [
    {
     "name": "stdout",
     "output_type": "stream",
     "text": [
      "Work!\n"
     ]
    }
   ],
   "source": [
    "mood =  \"not hungry\"\n",
    "\n",
    "if mood == \"hungry\":\n",
    "\tprint(\"Lunch!\")\n",
    "else:\n",
    "\tprint(\"Work!\")"
   ]
  },
  {
   "cell_type": "markdown",
   "metadata": {},
   "source": [
    "What if we want to add a new condition? \n",
    "\n",
    "We can use another `if` statement to write the code as follows."
   ]
  },
  {
   "cell_type": "code",
   "execution_count": 82,
   "metadata": {},
   "outputs": [],
   "source": [
    "mood = 'tired'\n",
    "\n",
    "if mood == \"hungry\":\n",
    "\tto_do = \"Lunch!\"\n",
    "else:\n",
    "    if mood == \"tired\":\n",
    "        to_do = \"Coffee\"\n",
    "    else:\n",
    "        to_do = \"work\""
   ]
  },
  {
   "cell_type": "code",
   "execution_count": 81,
   "metadata": {},
   "outputs": [
    {
     "name": "stdout",
     "output_type": "stream",
     "text": [
      "work\n"
     ]
    }
   ],
   "source": [
    "print(to_do)"
   ]
  },
  {
   "cell_type": "markdown",
   "metadata": {},
   "source": [
    "Adding even more conditions will make the code pretty long and difficult to manage. Shouldn't python have some functionality to prevent this?\n",
    "\n",
    "Indeed it does. We can add something called an `elif` block. The `elif` block checks a condition after the `if` condition evaluates to `False`. "
   ]
  },
  {
   "cell_type": "code",
   "execution_count": 83,
   "metadata": {},
   "outputs": [],
   "source": [
    "mood = 'tired'\n",
    "\n",
    "if mood == \"hungry\":\n",
    "\tto_do = \"Lunch!\"\n",
    "elif mood == \"tired\":\n",
    "    to_do = \"Coffee\"\n",
    "else:\n",
    "    to_do = \"work\""
   ]
  },
  {
   "cell_type": "code",
   "execution_count": 84,
   "metadata": {},
   "outputs": [
    {
     "name": "stdout",
     "output_type": "stream",
     "text": [
      "Coffee\n"
     ]
    }
   ],
   "source": [
    "print(to_do)"
   ]
  },
  {
   "cell_type": "markdown",
   "metadata": {},
   "source": [
    "### Functions\n",
    "When you program in Python you will make use of functions. Functions are snippets of code that can be called upon to carry out specific tasks. The `str()` code used in the previous exercise to make Python recognize numbers as text was an example of a function. Python contains a lot of built-in functions that are ready to use. Saving us a lot of manual coding!\n",
    "\n",
    "Functions need to be passed one or more parameters as input. The syntax of a function is as follows: `functionname(parameters)`. When there are multiple parameters these are seperated with a comma.\n",
    "\n",
    "You can find some examples below"
   ]
  },
  {
   "cell_type": "code",
   "execution_count": 46,
   "metadata": {},
   "outputs": [
    {
     "data": {
      "text/plain": [
       "75"
      ]
     },
     "execution_count": 46,
     "metadata": {},
     "output_type": "execute_result"
    }
   ],
   "source": [
    "# Calculate the highest number using the max() function.\n",
    "max(5, 8, 35, 4, 75, 2)"
   ]
  },
  {
   "cell_type": "code",
   "execution_count": 4,
   "metadata": {},
   "outputs": [
    {
     "data": {
      "text/plain": [
       "36.53"
      ]
     },
     "execution_count": 4,
     "metadata": {},
     "output_type": "execute_result"
    }
   ],
   "source": [
    "# Round the number to two decimals with the round() function.\n",
    "round(36.53343, 2)"
   ]
  },
  {
   "cell_type": "markdown",
   "metadata": {},
   "source": [
    "You can also create your own functions.\n",
    "\n",
    "In the following example, we create a `show()` function that prints or \"shows\" a predefined greeting to us."
   ]
  },
  {
   "cell_type": "code",
   "execution_count": 48,
   "metadata": {},
   "outputs": [],
   "source": [
    "def show():\n",
    "    print(\"Welcome humanling!\")"
   ]
  },
  {
   "cell_type": "markdown",
   "metadata": {},
   "source": [
    "Note the syntax while creating (also called defining) a function.\n",
    "The function starts with a `def` keyword followed by the name and a parentheses.\n",
    "The first line must end with a colon (:) to indicate that it is a special kind of python statement.\n",
    "The next part of the code contains all the instructions for the function. These are indented to indicate that the instructions belong to the defined function. Remember, whitespace and indentation is critical in python.\n",
    "\n",
    "We covered all the steps for creating a function, then why doesn't it print anything?\n",
    "We need to call a function to make it work. The following cell calls the show function we defined above.\n"
   ]
  },
  {
   "cell_type": "code",
   "execution_count": 49,
   "metadata": {},
   "outputs": [
    {
     "name": "stdout",
     "output_type": "stream",
     "text": [
      "Welcome humanling!\n"
     ]
    }
   ],
   "source": [
    "show()"
   ]
  },
  {
   "cell_type": "markdown",
   "metadata": {},
   "source": [
    "Now we get the output!\n",
    "\n",
    "Functions can even take some parameters (or arguments) to carry out more specific tasks.\n",
    "Parameters are defined by writing variables for the parameters inside the parenthesis while defining a function.\n",
    "For example, the following function takes in a string called name as an argument and then prints a specialized greeting.\n"
   ]
  },
  {
   "cell_type": "code",
   "execution_count": 16,
   "metadata": {},
   "outputs": [],
   "source": [
    "def greet(name):\n",
    "    print(\"Welcome \"+ name + \"!\")"
   ]
  },
  {
   "cell_type": "code",
   "execution_count": 17,
   "metadata": {},
   "outputs": [
    {
     "name": "stdout",
     "output_type": "stream",
     "text": [
      "Welcome Arpit!\n"
     ]
    }
   ],
   "source": [
    "## Make sure you have run the cell above to activate the greet function\n",
    "greet(\"Arpit\")"
   ]
  },
  {
   "cell_type": "markdown",
   "metadata": {},
   "source": [
    "**Excercise**\n",
    "\n",
    "Use the created `greet` function to greet yourself. "
   ]
  },
  {
   "cell_type": "code",
   "execution_count": 58,
   "metadata": {},
   "outputs": [],
   "source": [
    "### Write the exercise code here"
   ]
  },
  {
   "cell_type": "markdown",
   "metadata": {},
   "source": [
    "### Packages\n",
    "\n",
    "The last important thing to know is that Python works with packages. A package is a collection of modules with predefined functions. These functions can then be used in your own code. Using packages can save a lot of programming work and enhances the functionality of base Python. Most Python programmers regularly use packages.\n",
    "\n",
    "Before using a Python package it needs to be installed. This is preferably done using the command line but can also be done within your Jupyter Notebook. \n",
    "\n",
    "Packages can be installed with the code:\n",
    "`pip install packagename`\n",
    "\n",
    "If you use Binder, the packages are automaticaly installed when the Binder enviroment is created. \n",
    "\n",
    "Afterwards the package needs to be imported into the Notebook. This is done with the syntax:\n",
    "`import packagename`\n",
    "\n",
    "After importing the package is ready for use. \n",
    "\n",
    "In the next Notebook, we will work with the packages Pandas (for easy data manipulation)"
   ]
  },
  {
   "cell_type": "markdown",
   "metadata": {},
   "source": [
    "**Excercise** <br>\n",
    "Use what you learned in the Notebooks to complete the following excercise:\n",
    "\n",
    "Create an if/else statement that checks a username for the correct length. \n",
    "\n",
    "You can use the built-in function `len()` to check how many characters a string contains. This len function can also be used with comparators (for example len(string) > 8). \n",
    "\n",
    "If a username is shorter than 3 characters, the output is 'Username too short'. <br>\n",
    "If a username is longer than 10 character, the output is 'Username too long'. <br>\n",
    "If the username is between 3 and 10 characters, the output is 'Username accepted'. \n",
    "\n",
    "Store the output in a variable named output and print the content of this variable. \n"
   ]
  },
  {
   "cell_type": "code",
   "execution_count": 3,
   "metadata": {},
   "outputs": [],
   "source": [
    "### Write the exercise code below and run the cell"
   ]
  },
  {
   "cell_type": "markdown",
   "metadata": {},
   "source": [
    "### ***Hints***"
   ]
  },
  {
   "cell_type": "markdown",
   "metadata": {},
   "source": [
    "Here is an example of how you can use the len() function to count the characters in a string:"
   ]
  },
  {
   "cell_type": "code",
   "execution_count": 1,
   "metadata": {},
   "outputs": [
    {
     "name": "stdout",
     "output_type": "stream",
     "text": [
      "7\n"
     ]
    }
   ],
   "source": [
    "username = 'test123'\n",
    "print(len(username))"
   ]
  },
  {
   "cell_type": "markdown",
   "metadata": {},
   "source": [
    "Here is an example of using the len() function in combination with an operator in an if statement:"
   ]
  },
  {
   "cell_type": "code",
   "execution_count": 3,
   "metadata": {},
   "outputs": [
    {
     "name": "stdout",
     "output_type": "stream",
     "text": [
      "Username accepted\n"
     ]
    }
   ],
   "source": [
    "if len(username) >6:\n",
    "    output = \"Username accepted\"\n",
    "    \n",
    "print(output)"
   ]
  },
  {
   "cell_type": "markdown",
   "metadata": {},
   "source": [
    "The code should be constructed like this:\n",
    "\n",
    "```\n",
    "creation of variable username with content (for example 'test123')  \n",
    "\n",
    "if the username is shorter than 3 characters: \n",
    "    a variable named output gets the content 'username too short' \n",
    "elif the username is longer than 10 characters: \n",
    "    a variable named output gets the content 'username too long' \n",
    "else: \n",
    "    a variable named output gets the content 'username accepted' \n",
    "    \n",
    "print the content of the output variable\n",
    "```"
   ]
  },
  {
   "cell_type": "markdown",
   "metadata": {},
   "source": [
    "Test the code by changing the content of the username variable a few times!"
   ]
  }
 ],
 "metadata": {
  "kernelspec": {
   "display_name": "Python 3 (ipykernel)",
   "language": "python",
   "name": "python3"
  },
  "language_info": {
   "codemirror_mode": {
    "name": "ipython",
    "version": 3
   },
   "file_extension": ".py",
   "mimetype": "text/x-python",
   "name": "python",
   "nbconvert_exporter": "python",
   "pygments_lexer": "ipython3",
   "version": "3.9.12"
  }
 },
 "nbformat": 4,
 "nbformat_minor": 4
}
