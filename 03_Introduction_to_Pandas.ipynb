{
 "cells": [
  {
   "cell_type": "markdown",
   "id": "63b50012",
   "metadata": {},
   "source": [
    "# Introduction to Python\n",
    "\n",
    "This Notebook is a combination of parts of the Notebooks from **Muhammad Kareem, Byte Sized Code**"
   ]
  },
  {
   "cell_type": "markdown",
   "id": "38235389",
   "metadata": {},
   "source": [
    "## What is pandas?\n",
    "\n",
    "Pandas is a powerful python module for data analysis and it has essential features for any data science project"
   ]
  },
  {
   "cell_type": "markdown",
   "id": "894e36c7",
   "metadata": {},
   "source": [
    "## Why use pandas?\n",
    "\n",
    "Pandas provide awesome features for data analysis and visualization with very few lines of code yet outstanding effect, Some of the major features it has are as follows :\n",
    "\n",
    "* Sorting out data and creating awesome insights on the data\n",
    "* Beautiful plots on the generated data to provide a visualizaed view of the data for non - programmers\n",
    "* Indexing and sorting out values in data\n",
    "* Handling big data (data as big as millions of entries)\n",
    "* Cleaning up data and handling missing values\n"
   ]
  },
  {
   "cell_type": "markdown",
   "id": "974bd71b",
   "metadata": {},
   "source": [
    "`pip install pandas` for regular installation and refer to the documentations of pandas if you're using any virtual environment"
   ]
  },
  {
   "cell_type": "markdown",
   "id": "e5930dbe",
   "metadata": {},
   "source": [
    "## Installing pandas"
   ]
  },
  {
   "cell_type": "markdown",
   "id": "c0780d14",
   "metadata": {},
   "source": [
    "Panas is intalled using the command `pip install pandas` for regular installation and refer to the documentations of pandas if you're using any virtual environment.\n",
    "\n",
    "If this Notebooks is used in Binder, pandas is already installed. \n"
   ]
  },
  {
   "cell_type": "markdown",
   "id": "fc5562fd",
   "metadata": {},
   "source": [
    "## Using pandas\n",
    "\n",
    "### Import pandas\n",
    "\n",
    "Before the pandas packages can be used, it must first be imported in the Notebook. This is done with the `import` statement. Normally this is done using the command `import pandas`. \n",
    "\n",
    "As programmers are lazy, while importing it is common practice to give pandas the nickame 'pd', so we can type less whil using the package. We use the word `as` for this, as in the following command:"
   ]
  },
  {
   "cell_type": "code",
   "execution_count": 6,
   "id": "b6cd7245",
   "metadata": {},
   "outputs": [],
   "source": [
    "import pandas as pd"
   ]
  },
  {
   "cell_type": "markdown",
   "id": "a519c496",
   "metadata": {},
   "source": [
    "Pandas support different file formats, such as csv, excel, json etc. \n",
    "\n",
    "In this tutorial, we will work with a csv file. The csv file is downloaded from .... and contains information about the Avengers. The original file was altered slightly by adding the name/aliases for avengers where this columns was empty. \n",
    "\n",
    "We can store the csv file we want to use in a variable with the function read_csv() from pandas. \n",
    "\n",
    "In order to read csv files, pandas uses an encoding. The standard encoding is utf-8. However, the file we use has a latin-1 encodig, so we have to specify this while reading the file. "
   ]
  },
  {
   "cell_type": "code",
   "execution_count": 208,
   "id": "2afba83f",
   "metadata": {},
   "outputs": [],
   "source": [
    "data = pd.read_csv(r\"Data/avengers.csv\",encoding='latin-1')"
   ]
  },
  {
   "cell_type": "markdown",
   "id": "c9e5bf9d",
   "metadata": {},
   "source": [
    "### Inspecting the dataframe"
   ]
  },
  {
   "cell_type": "markdown",
   "id": "eeb18adf",
   "metadata": {},
   "source": [
    "Once the dataframe is loaded, you can start by inspecting your dataframe. \n",
    "\n",
    "First, we check if everything is loaded correctly by displaying the frame. This also gives us a first insight in the data we have. As you may remember from the previous Notebook, we do this *without* the print function. "
   ]
  },
  {
   "cell_type": "code",
   "execution_count": 225,
   "id": "82887f15",
   "metadata": {},
   "outputs": [
    {
     "data": {
      "text/html": [
       "<div>\n",
       "<style scoped>\n",
       "    .dataframe tbody tr th:only-of-type {\n",
       "        vertical-align: middle;\n",
       "    }\n",
       "\n",
       "    .dataframe tbody tr th {\n",
       "        vertical-align: top;\n",
       "    }\n",
       "\n",
       "    .dataframe thead th {\n",
       "        text-align: right;\n",
       "    }\n",
       "</style>\n",
       "<table border=\"1\" class=\"dataframe\">\n",
       "  <thead>\n",
       "    <tr style=\"text-align: right;\">\n",
       "      <th></th>\n",
       "      <th>URL</th>\n",
       "      <th>Name/Alias</th>\n",
       "      <th>Appearances</th>\n",
       "      <th>Current?</th>\n",
       "      <th>Gender</th>\n",
       "      <th>Probationary Introl</th>\n",
       "      <th>Full/Reserve Avengers Intro</th>\n",
       "      <th>Year</th>\n",
       "      <th>Years since joining</th>\n",
       "      <th>Honorary</th>\n",
       "      <th>...</th>\n",
       "      <th>Return1</th>\n",
       "      <th>Death2</th>\n",
       "      <th>Return2</th>\n",
       "      <th>Death3</th>\n",
       "      <th>Return3</th>\n",
       "      <th>Death4</th>\n",
       "      <th>Return4</th>\n",
       "      <th>Death5</th>\n",
       "      <th>Return5</th>\n",
       "      <th>Notes</th>\n",
       "    </tr>\n",
       "  </thead>\n",
       "  <tbody>\n",
       "    <tr>\n",
       "      <th>0</th>\n",
       "      <td>http://marvel.wikia.com/Henry_Pym_(Earth-616)</td>\n",
       "      <td>Henry Jonathan \"Hank\" Pym</td>\n",
       "      <td>1269</td>\n",
       "      <td>YES</td>\n",
       "      <td>MALE</td>\n",
       "      <td>NaN</td>\n",
       "      <td>Sep-63</td>\n",
       "      <td>1963</td>\n",
       "      <td>52</td>\n",
       "      <td>Full</td>\n",
       "      <td>...</td>\n",
       "      <td>NO</td>\n",
       "      <td>NaN</td>\n",
       "      <td>NaN</td>\n",
       "      <td>NaN</td>\n",
       "      <td>NaN</td>\n",
       "      <td>NaN</td>\n",
       "      <td>NaN</td>\n",
       "      <td>NaN</td>\n",
       "      <td>NaN</td>\n",
       "      <td>Merged with Ultron in Rage of Ultron Vol. 1. A...</td>\n",
       "    </tr>\n",
       "    <tr>\n",
       "      <th>1</th>\n",
       "      <td>http://marvel.wikia.com/Janet_van_Dyne_(Earth-...</td>\n",
       "      <td>Janet van Dyne</td>\n",
       "      <td>1165</td>\n",
       "      <td>YES</td>\n",
       "      <td>FEMALE</td>\n",
       "      <td>NaN</td>\n",
       "      <td>Sep-63</td>\n",
       "      <td>1963</td>\n",
       "      <td>52</td>\n",
       "      <td>Full</td>\n",
       "      <td>...</td>\n",
       "      <td>YES</td>\n",
       "      <td>NaN</td>\n",
       "      <td>NaN</td>\n",
       "      <td>NaN</td>\n",
       "      <td>NaN</td>\n",
       "      <td>NaN</td>\n",
       "      <td>NaN</td>\n",
       "      <td>NaN</td>\n",
       "      <td>NaN</td>\n",
       "      <td>Dies in Secret Invasion V1:I8. Actually was se...</td>\n",
       "    </tr>\n",
       "    <tr>\n",
       "      <th>2</th>\n",
       "      <td>http://marvel.wikia.com/Anthony_Stark_(Earth-616)</td>\n",
       "      <td>Anthony Edward \"Tony\" Stark</td>\n",
       "      <td>3068</td>\n",
       "      <td>YES</td>\n",
       "      <td>MALE</td>\n",
       "      <td>NaN</td>\n",
       "      <td>Sep-63</td>\n",
       "      <td>1963</td>\n",
       "      <td>52</td>\n",
       "      <td>Full</td>\n",
       "      <td>...</td>\n",
       "      <td>YES</td>\n",
       "      <td>NaN</td>\n",
       "      <td>NaN</td>\n",
       "      <td>NaN</td>\n",
       "      <td>NaN</td>\n",
       "      <td>NaN</td>\n",
       "      <td>NaN</td>\n",
       "      <td>NaN</td>\n",
       "      <td>NaN</td>\n",
       "      <td>Death: \"Later while under the influence of Imm...</td>\n",
       "    </tr>\n",
       "    <tr>\n",
       "      <th>3</th>\n",
       "      <td>http://marvel.wikia.com/Robert_Bruce_Banner_(E...</td>\n",
       "      <td>Robert Bruce Banner</td>\n",
       "      <td>2089</td>\n",
       "      <td>YES</td>\n",
       "      <td>MALE</td>\n",
       "      <td>NaN</td>\n",
       "      <td>Sep-63</td>\n",
       "      <td>1963</td>\n",
       "      <td>52</td>\n",
       "      <td>Full</td>\n",
       "      <td>...</td>\n",
       "      <td>YES</td>\n",
       "      <td>NaN</td>\n",
       "      <td>NaN</td>\n",
       "      <td>NaN</td>\n",
       "      <td>NaN</td>\n",
       "      <td>NaN</td>\n",
       "      <td>NaN</td>\n",
       "      <td>NaN</td>\n",
       "      <td>NaN</td>\n",
       "      <td>Dies in Ghosts of the Future arc. However \"he ...</td>\n",
       "    </tr>\n",
       "    <tr>\n",
       "      <th>4</th>\n",
       "      <td>http://marvel.wikia.com/Thor_Odinson_(Earth-616)</td>\n",
       "      <td>Thor Odinson</td>\n",
       "      <td>2402</td>\n",
       "      <td>YES</td>\n",
       "      <td>MALE</td>\n",
       "      <td>NaN</td>\n",
       "      <td>Sep-63</td>\n",
       "      <td>1963</td>\n",
       "      <td>52</td>\n",
       "      <td>Full</td>\n",
       "      <td>...</td>\n",
       "      <td>YES</td>\n",
       "      <td>YES</td>\n",
       "      <td>NO</td>\n",
       "      <td>NaN</td>\n",
       "      <td>NaN</td>\n",
       "      <td>NaN</td>\n",
       "      <td>NaN</td>\n",
       "      <td>NaN</td>\n",
       "      <td>NaN</td>\n",
       "      <td>Dies in Fear Itself brought back because that'...</td>\n",
       "    </tr>\n",
       "    <tr>\n",
       "      <th>...</th>\n",
       "      <td>...</td>\n",
       "      <td>...</td>\n",
       "      <td>...</td>\n",
       "      <td>...</td>\n",
       "      <td>...</td>\n",
       "      <td>...</td>\n",
       "      <td>...</td>\n",
       "      <td>...</td>\n",
       "      <td>...</td>\n",
       "      <td>...</td>\n",
       "      <td>...</td>\n",
       "      <td>...</td>\n",
       "      <td>...</td>\n",
       "      <td>...</td>\n",
       "      <td>...</td>\n",
       "      <td>...</td>\n",
       "      <td>...</td>\n",
       "      <td>...</td>\n",
       "      <td>...</td>\n",
       "      <td>...</td>\n",
       "      <td>...</td>\n",
       "    </tr>\n",
       "    <tr>\n",
       "      <th>168</th>\n",
       "      <td>http://marvel.wikia.com/Eric_Brooks_(Earth-616)#</td>\n",
       "      <td>Eric Brooks</td>\n",
       "      <td>198</td>\n",
       "      <td>YES</td>\n",
       "      <td>MALE</td>\n",
       "      <td>NaN</td>\n",
       "      <td>13-Nov</td>\n",
       "      <td>2013</td>\n",
       "      <td>2</td>\n",
       "      <td>Full</td>\n",
       "      <td>...</td>\n",
       "      <td>NaN</td>\n",
       "      <td>NaN</td>\n",
       "      <td>NaN</td>\n",
       "      <td>NaN</td>\n",
       "      <td>NaN</td>\n",
       "      <td>NaN</td>\n",
       "      <td>NaN</td>\n",
       "      <td>NaN</td>\n",
       "      <td>NaN</td>\n",
       "      <td>NaN</td>\n",
       "    </tr>\n",
       "    <tr>\n",
       "      <th>169</th>\n",
       "      <td>http://marvel.wikia.com/Adam_Brashear_(Earth-6...</td>\n",
       "      <td>Adam Brashear</td>\n",
       "      <td>29</td>\n",
       "      <td>YES</td>\n",
       "      <td>MALE</td>\n",
       "      <td>NaN</td>\n",
       "      <td>14-Jan</td>\n",
       "      <td>2014</td>\n",
       "      <td>1</td>\n",
       "      <td>Full</td>\n",
       "      <td>...</td>\n",
       "      <td>NaN</td>\n",
       "      <td>NaN</td>\n",
       "      <td>NaN</td>\n",
       "      <td>NaN</td>\n",
       "      <td>NaN</td>\n",
       "      <td>NaN</td>\n",
       "      <td>NaN</td>\n",
       "      <td>NaN</td>\n",
       "      <td>NaN</td>\n",
       "      <td>NaN</td>\n",
       "    </tr>\n",
       "    <tr>\n",
       "      <th>170</th>\n",
       "      <td>http://marvel.wikia.com/Victor_Alvarez_(Earth-...</td>\n",
       "      <td>Victor Alvarez</td>\n",
       "      <td>45</td>\n",
       "      <td>YES</td>\n",
       "      <td>MALE</td>\n",
       "      <td>NaN</td>\n",
       "      <td>14-Jan</td>\n",
       "      <td>2014</td>\n",
       "      <td>1</td>\n",
       "      <td>Full</td>\n",
       "      <td>...</td>\n",
       "      <td>NaN</td>\n",
       "      <td>NaN</td>\n",
       "      <td>NaN</td>\n",
       "      <td>NaN</td>\n",
       "      <td>NaN</td>\n",
       "      <td>NaN</td>\n",
       "      <td>NaN</td>\n",
       "      <td>NaN</td>\n",
       "      <td>NaN</td>\n",
       "      <td>NaN</td>\n",
       "    </tr>\n",
       "    <tr>\n",
       "      <th>171</th>\n",
       "      <td>http://marvel.wikia.com/Ava_Ayala_(Earth-616)#</td>\n",
       "      <td>Ava Ayala</td>\n",
       "      <td>49</td>\n",
       "      <td>YES</td>\n",
       "      <td>FEMALE</td>\n",
       "      <td>NaN</td>\n",
       "      <td>14-Jan</td>\n",
       "      <td>2014</td>\n",
       "      <td>1</td>\n",
       "      <td>Full</td>\n",
       "      <td>...</td>\n",
       "      <td>NaN</td>\n",
       "      <td>NaN</td>\n",
       "      <td>NaN</td>\n",
       "      <td>NaN</td>\n",
       "      <td>NaN</td>\n",
       "      <td>NaN</td>\n",
       "      <td>NaN</td>\n",
       "      <td>NaN</td>\n",
       "      <td>NaN</td>\n",
       "      <td>NaN</td>\n",
       "    </tr>\n",
       "    <tr>\n",
       "      <th>172</th>\n",
       "      <td>http://marvel.wikia.com/Kaluu_(Earth-616)#</td>\n",
       "      <td>Kaluu</td>\n",
       "      <td>35</td>\n",
       "      <td>YES</td>\n",
       "      <td>MALE</td>\n",
       "      <td>NaN</td>\n",
       "      <td>15-Jan</td>\n",
       "      <td>2015</td>\n",
       "      <td>0</td>\n",
       "      <td>Full</td>\n",
       "      <td>...</td>\n",
       "      <td>NaN</td>\n",
       "      <td>NaN</td>\n",
       "      <td>NaN</td>\n",
       "      <td>NaN</td>\n",
       "      <td>NaN</td>\n",
       "      <td>NaN</td>\n",
       "      <td>NaN</td>\n",
       "      <td>NaN</td>\n",
       "      <td>NaN</td>\n",
       "      <td>NaN</td>\n",
       "    </tr>\n",
       "  </tbody>\n",
       "</table>\n",
       "<p>173 rows × 21 columns</p>\n",
       "</div>"
      ],
      "text/plain": [
       "                                                   URL  \\\n",
       "0        http://marvel.wikia.com/Henry_Pym_(Earth-616)   \n",
       "1    http://marvel.wikia.com/Janet_van_Dyne_(Earth-...   \n",
       "2    http://marvel.wikia.com/Anthony_Stark_(Earth-616)   \n",
       "3    http://marvel.wikia.com/Robert_Bruce_Banner_(E...   \n",
       "4     http://marvel.wikia.com/Thor_Odinson_(Earth-616)   \n",
       "..                                                 ...   \n",
       "168   http://marvel.wikia.com/Eric_Brooks_(Earth-616)#   \n",
       "169  http://marvel.wikia.com/Adam_Brashear_(Earth-6...   \n",
       "170  http://marvel.wikia.com/Victor_Alvarez_(Earth-...   \n",
       "171     http://marvel.wikia.com/Ava_Ayala_(Earth-616)#   \n",
       "172         http://marvel.wikia.com/Kaluu_(Earth-616)#   \n",
       "\n",
       "                      Name/Alias  Appearances Current?  Gender  \\\n",
       "0      Henry Jonathan \"Hank\" Pym         1269      YES    MALE   \n",
       "1                 Janet van Dyne         1165      YES  FEMALE   \n",
       "2    Anthony Edward \"Tony\" Stark         3068      YES    MALE   \n",
       "3            Robert Bruce Banner         2089      YES    MALE   \n",
       "4                   Thor Odinson         2402      YES    MALE   \n",
       "..                           ...          ...      ...     ...   \n",
       "168                  Eric Brooks          198      YES    MALE   \n",
       "169                Adam Brashear           29      YES    MALE   \n",
       "170               Victor Alvarez           45      YES    MALE   \n",
       "171                    Ava Ayala           49      YES  FEMALE   \n",
       "172                        Kaluu           35      YES    MALE   \n",
       "\n",
       "    Probationary Introl Full/Reserve Avengers Intro  Year  \\\n",
       "0                   NaN                      Sep-63  1963   \n",
       "1                   NaN                      Sep-63  1963   \n",
       "2                   NaN                      Sep-63  1963   \n",
       "3                   NaN                      Sep-63  1963   \n",
       "4                   NaN                      Sep-63  1963   \n",
       "..                  ...                         ...   ...   \n",
       "168                 NaN                      13-Nov  2013   \n",
       "169                 NaN                      14-Jan  2014   \n",
       "170                 NaN                      14-Jan  2014   \n",
       "171                 NaN                      14-Jan  2014   \n",
       "172                 NaN                      15-Jan  2015   \n",
       "\n",
       "     Years since joining Honorary  ... Return1 Death2 Return2 Death3 Return3  \\\n",
       "0                     52     Full  ...      NO    NaN     NaN    NaN     NaN   \n",
       "1                     52     Full  ...     YES    NaN     NaN    NaN     NaN   \n",
       "2                     52     Full  ...     YES    NaN     NaN    NaN     NaN   \n",
       "3                     52     Full  ...     YES    NaN     NaN    NaN     NaN   \n",
       "4                     52     Full  ...     YES    YES      NO    NaN     NaN   \n",
       "..                   ...      ...  ...     ...    ...     ...    ...     ...   \n",
       "168                    2     Full  ...     NaN    NaN     NaN    NaN     NaN   \n",
       "169                    1     Full  ...     NaN    NaN     NaN    NaN     NaN   \n",
       "170                    1     Full  ...     NaN    NaN     NaN    NaN     NaN   \n",
       "171                    1     Full  ...     NaN    NaN     NaN    NaN     NaN   \n",
       "172                    0     Full  ...     NaN    NaN     NaN    NaN     NaN   \n",
       "\n",
       "    Death4 Return4 Death5 Return5  \\\n",
       "0      NaN     NaN    NaN     NaN   \n",
       "1      NaN     NaN    NaN     NaN   \n",
       "2      NaN     NaN    NaN     NaN   \n",
       "3      NaN     NaN    NaN     NaN   \n",
       "4      NaN     NaN    NaN     NaN   \n",
       "..     ...     ...    ...     ...   \n",
       "168    NaN     NaN    NaN     NaN   \n",
       "169    NaN     NaN    NaN     NaN   \n",
       "170    NaN     NaN    NaN     NaN   \n",
       "171    NaN     NaN    NaN     NaN   \n",
       "172    NaN     NaN    NaN     NaN   \n",
       "\n",
       "                                                 Notes  \n",
       "0    Merged with Ultron in Rage of Ultron Vol. 1. A...  \n",
       "1    Dies in Secret Invasion V1:I8. Actually was se...  \n",
       "2    Death: \"Later while under the influence of Imm...  \n",
       "3    Dies in Ghosts of the Future arc. However \"he ...  \n",
       "4    Dies in Fear Itself brought back because that'...  \n",
       "..                                                 ...  \n",
       "168                                                NaN  \n",
       "169                                                NaN  \n",
       "170                                                NaN  \n",
       "171                                                NaN  \n",
       "172                                                NaN  \n",
       "\n",
       "[173 rows x 21 columns]"
      ]
     },
     "execution_count": 225,
     "metadata": {},
     "output_type": "execute_result"
    }
   ],
   "source": [
    "data"
   ]
  },
  {
   "cell_type": "markdown",
   "id": "e115bf99",
   "metadata": {},
   "source": [
    "As you can see, the dataframe is nicely displayed as a table. If you use the print() function, the dataframe looks much less nicer. "
   ]
  },
  {
   "cell_type": "code",
   "execution_count": 226,
   "id": "eb9303cd",
   "metadata": {},
   "outputs": [
    {
     "name": "stdout",
     "output_type": "stream",
     "text": [
      "                                                   URL  \\\n",
      "0        http://marvel.wikia.com/Henry_Pym_(Earth-616)   \n",
      "1    http://marvel.wikia.com/Janet_van_Dyne_(Earth-...   \n",
      "2    http://marvel.wikia.com/Anthony_Stark_(Earth-616)   \n",
      "3    http://marvel.wikia.com/Robert_Bruce_Banner_(E...   \n",
      "4     http://marvel.wikia.com/Thor_Odinson_(Earth-616)   \n",
      "..                                                 ...   \n",
      "168   http://marvel.wikia.com/Eric_Brooks_(Earth-616)#   \n",
      "169  http://marvel.wikia.com/Adam_Brashear_(Earth-6...   \n",
      "170  http://marvel.wikia.com/Victor_Alvarez_(Earth-...   \n",
      "171     http://marvel.wikia.com/Ava_Ayala_(Earth-616)#   \n",
      "172         http://marvel.wikia.com/Kaluu_(Earth-616)#   \n",
      "\n",
      "                      Name/Alias  Appearances Current?  Gender  \\\n",
      "0      Henry Jonathan \"Hank\" Pym         1269      YES    MALE   \n",
      "1                 Janet van Dyne         1165      YES  FEMALE   \n",
      "2    Anthony Edward \"Tony\" Stark         3068      YES    MALE   \n",
      "3            Robert Bruce Banner         2089      YES    MALE   \n",
      "4                   Thor Odinson         2402      YES    MALE   \n",
      "..                           ...          ...      ...     ...   \n",
      "168                  Eric Brooks          198      YES    MALE   \n",
      "169                Adam Brashear           29      YES    MALE   \n",
      "170               Victor Alvarez           45      YES    MALE   \n",
      "171                    Ava Ayala           49      YES  FEMALE   \n",
      "172                        Kaluu           35      YES    MALE   \n",
      "\n",
      "    Probationary Introl Full/Reserve Avengers Intro  Year  \\\n",
      "0                   NaN                      Sep-63  1963   \n",
      "1                   NaN                      Sep-63  1963   \n",
      "2                   NaN                      Sep-63  1963   \n",
      "3                   NaN                      Sep-63  1963   \n",
      "4                   NaN                      Sep-63  1963   \n",
      "..                  ...                         ...   ...   \n",
      "168                 NaN                      13-Nov  2013   \n",
      "169                 NaN                      14-Jan  2014   \n",
      "170                 NaN                      14-Jan  2014   \n",
      "171                 NaN                      14-Jan  2014   \n",
      "172                 NaN                      15-Jan  2015   \n",
      "\n",
      "     Years since joining Honorary  ... Return1 Death2 Return2 Death3 Return3  \\\n",
      "0                     52     Full  ...      NO    NaN     NaN    NaN     NaN   \n",
      "1                     52     Full  ...     YES    NaN     NaN    NaN     NaN   \n",
      "2                     52     Full  ...     YES    NaN     NaN    NaN     NaN   \n",
      "3                     52     Full  ...     YES    NaN     NaN    NaN     NaN   \n",
      "4                     52     Full  ...     YES    YES      NO    NaN     NaN   \n",
      "..                   ...      ...  ...     ...    ...     ...    ...     ...   \n",
      "168                    2     Full  ...     NaN    NaN     NaN    NaN     NaN   \n",
      "169                    1     Full  ...     NaN    NaN     NaN    NaN     NaN   \n",
      "170                    1     Full  ...     NaN    NaN     NaN    NaN     NaN   \n",
      "171                    1     Full  ...     NaN    NaN     NaN    NaN     NaN   \n",
      "172                    0     Full  ...     NaN    NaN     NaN    NaN     NaN   \n",
      "\n",
      "    Death4 Return4 Death5 Return5  \\\n",
      "0      NaN     NaN    NaN     NaN   \n",
      "1      NaN     NaN    NaN     NaN   \n",
      "2      NaN     NaN    NaN     NaN   \n",
      "3      NaN     NaN    NaN     NaN   \n",
      "4      NaN     NaN    NaN     NaN   \n",
      "..     ...     ...    ...     ...   \n",
      "168    NaN     NaN    NaN     NaN   \n",
      "169    NaN     NaN    NaN     NaN   \n",
      "170    NaN     NaN    NaN     NaN   \n",
      "171    NaN     NaN    NaN     NaN   \n",
      "172    NaN     NaN    NaN     NaN   \n",
      "\n",
      "                                                 Notes  \n",
      "0    Merged with Ultron in Rage of Ultron Vol. 1. A...  \n",
      "1    Dies in Secret Invasion V1:I8. Actually was se...  \n",
      "2    Death: \"Later while under the influence of Imm...  \n",
      "3    Dies in Ghosts of the Future arc. However \"he ...  \n",
      "4    Dies in Fear Itself brought back because that'...  \n",
      "..                                                 ...  \n",
      "168                                                NaN  \n",
      "169                                                NaN  \n",
      "170                                                NaN  \n",
      "171                                                NaN  \n",
      "172                                                NaN  \n",
      "\n",
      "[173 rows x 21 columns]\n"
     ]
    }
   ],
   "source": [
    "print(data)"
   ]
  },
  {
   "cell_type": "markdown",
   "id": "47c28bf0",
   "metadata": {},
   "source": [
    "Often, you don't need to check a lot of rows to check if everything is loaded correctly and what content there is. You can use the head() and tail() function to respectively look at only the top and the bottom rows. Between the brackets, you enter how many rows you want to be displayed. "
   ]
  },
  {
   "cell_type": "code",
   "execution_count": 228,
   "id": "3b92d01a",
   "metadata": {},
   "outputs": [
    {
     "data": {
      "text/html": [
       "<div>\n",
       "<style scoped>\n",
       "    .dataframe tbody tr th:only-of-type {\n",
       "        vertical-align: middle;\n",
       "    }\n",
       "\n",
       "    .dataframe tbody tr th {\n",
       "        vertical-align: top;\n",
       "    }\n",
       "\n",
       "    .dataframe thead th {\n",
       "        text-align: right;\n",
       "    }\n",
       "</style>\n",
       "<table border=\"1\" class=\"dataframe\">\n",
       "  <thead>\n",
       "    <tr style=\"text-align: right;\">\n",
       "      <th></th>\n",
       "      <th>URL</th>\n",
       "      <th>Name/Alias</th>\n",
       "      <th>Appearances</th>\n",
       "      <th>Current?</th>\n",
       "      <th>Gender</th>\n",
       "      <th>Probationary Introl</th>\n",
       "      <th>Full/Reserve Avengers Intro</th>\n",
       "      <th>Year</th>\n",
       "      <th>Years since joining</th>\n",
       "      <th>Honorary</th>\n",
       "      <th>...</th>\n",
       "      <th>Return1</th>\n",
       "      <th>Death2</th>\n",
       "      <th>Return2</th>\n",
       "      <th>Death3</th>\n",
       "      <th>Return3</th>\n",
       "      <th>Death4</th>\n",
       "      <th>Return4</th>\n",
       "      <th>Death5</th>\n",
       "      <th>Return5</th>\n",
       "      <th>Notes</th>\n",
       "    </tr>\n",
       "  </thead>\n",
       "  <tbody>\n",
       "    <tr>\n",
       "      <th>0</th>\n",
       "      <td>http://marvel.wikia.com/Henry_Pym_(Earth-616)</td>\n",
       "      <td>Henry Jonathan \"Hank\" Pym</td>\n",
       "      <td>1269</td>\n",
       "      <td>YES</td>\n",
       "      <td>MALE</td>\n",
       "      <td>NaN</td>\n",
       "      <td>Sep-63</td>\n",
       "      <td>1963</td>\n",
       "      <td>52</td>\n",
       "      <td>Full</td>\n",
       "      <td>...</td>\n",
       "      <td>NO</td>\n",
       "      <td>NaN</td>\n",
       "      <td>NaN</td>\n",
       "      <td>NaN</td>\n",
       "      <td>NaN</td>\n",
       "      <td>NaN</td>\n",
       "      <td>NaN</td>\n",
       "      <td>NaN</td>\n",
       "      <td>NaN</td>\n",
       "      <td>Merged with Ultron in Rage of Ultron Vol. 1. A...</td>\n",
       "    </tr>\n",
       "    <tr>\n",
       "      <th>1</th>\n",
       "      <td>http://marvel.wikia.com/Janet_van_Dyne_(Earth-...</td>\n",
       "      <td>Janet van Dyne</td>\n",
       "      <td>1165</td>\n",
       "      <td>YES</td>\n",
       "      <td>FEMALE</td>\n",
       "      <td>NaN</td>\n",
       "      <td>Sep-63</td>\n",
       "      <td>1963</td>\n",
       "      <td>52</td>\n",
       "      <td>Full</td>\n",
       "      <td>...</td>\n",
       "      <td>YES</td>\n",
       "      <td>NaN</td>\n",
       "      <td>NaN</td>\n",
       "      <td>NaN</td>\n",
       "      <td>NaN</td>\n",
       "      <td>NaN</td>\n",
       "      <td>NaN</td>\n",
       "      <td>NaN</td>\n",
       "      <td>NaN</td>\n",
       "      <td>Dies in Secret Invasion V1:I8. Actually was se...</td>\n",
       "    </tr>\n",
       "    <tr>\n",
       "      <th>2</th>\n",
       "      <td>http://marvel.wikia.com/Anthony_Stark_(Earth-616)</td>\n",
       "      <td>Anthony Edward \"Tony\" Stark</td>\n",
       "      <td>3068</td>\n",
       "      <td>YES</td>\n",
       "      <td>MALE</td>\n",
       "      <td>NaN</td>\n",
       "      <td>Sep-63</td>\n",
       "      <td>1963</td>\n",
       "      <td>52</td>\n",
       "      <td>Full</td>\n",
       "      <td>...</td>\n",
       "      <td>YES</td>\n",
       "      <td>NaN</td>\n",
       "      <td>NaN</td>\n",
       "      <td>NaN</td>\n",
       "      <td>NaN</td>\n",
       "      <td>NaN</td>\n",
       "      <td>NaN</td>\n",
       "      <td>NaN</td>\n",
       "      <td>NaN</td>\n",
       "      <td>Death: \"Later while under the influence of Imm...</td>\n",
       "    </tr>\n",
       "    <tr>\n",
       "      <th>3</th>\n",
       "      <td>http://marvel.wikia.com/Robert_Bruce_Banner_(E...</td>\n",
       "      <td>Robert Bruce Banner</td>\n",
       "      <td>2089</td>\n",
       "      <td>YES</td>\n",
       "      <td>MALE</td>\n",
       "      <td>NaN</td>\n",
       "      <td>Sep-63</td>\n",
       "      <td>1963</td>\n",
       "      <td>52</td>\n",
       "      <td>Full</td>\n",
       "      <td>...</td>\n",
       "      <td>YES</td>\n",
       "      <td>NaN</td>\n",
       "      <td>NaN</td>\n",
       "      <td>NaN</td>\n",
       "      <td>NaN</td>\n",
       "      <td>NaN</td>\n",
       "      <td>NaN</td>\n",
       "      <td>NaN</td>\n",
       "      <td>NaN</td>\n",
       "      <td>Dies in Ghosts of the Future arc. However \"he ...</td>\n",
       "    </tr>\n",
       "  </tbody>\n",
       "</table>\n",
       "<p>4 rows × 21 columns</p>\n",
       "</div>"
      ],
      "text/plain": [
       "                                                 URL  \\\n",
       "0      http://marvel.wikia.com/Henry_Pym_(Earth-616)   \n",
       "1  http://marvel.wikia.com/Janet_van_Dyne_(Earth-...   \n",
       "2  http://marvel.wikia.com/Anthony_Stark_(Earth-616)   \n",
       "3  http://marvel.wikia.com/Robert_Bruce_Banner_(E...   \n",
       "\n",
       "                    Name/Alias  Appearances Current?  Gender  \\\n",
       "0    Henry Jonathan \"Hank\" Pym         1269      YES    MALE   \n",
       "1               Janet van Dyne         1165      YES  FEMALE   \n",
       "2  Anthony Edward \"Tony\" Stark         3068      YES    MALE   \n",
       "3          Robert Bruce Banner         2089      YES    MALE   \n",
       "\n",
       "  Probationary Introl Full/Reserve Avengers Intro  Year  Years since joining  \\\n",
       "0                 NaN                      Sep-63  1963                   52   \n",
       "1                 NaN                      Sep-63  1963                   52   \n",
       "2                 NaN                      Sep-63  1963                   52   \n",
       "3                 NaN                      Sep-63  1963                   52   \n",
       "\n",
       "  Honorary  ... Return1 Death2 Return2 Death3 Return3 Death4 Return4 Death5  \\\n",
       "0     Full  ...      NO    NaN     NaN    NaN     NaN    NaN     NaN    NaN   \n",
       "1     Full  ...     YES    NaN     NaN    NaN     NaN    NaN     NaN    NaN   \n",
       "2     Full  ...     YES    NaN     NaN    NaN     NaN    NaN     NaN    NaN   \n",
       "3     Full  ...     YES    NaN     NaN    NaN     NaN    NaN     NaN    NaN   \n",
       "\n",
       "  Return5                                              Notes  \n",
       "0     NaN  Merged with Ultron in Rage of Ultron Vol. 1. A...  \n",
       "1     NaN  Dies in Secret Invasion V1:I8. Actually was se...  \n",
       "2     NaN  Death: \"Later while under the influence of Imm...  \n",
       "3     NaN  Dies in Ghosts of the Future arc. However \"he ...  \n",
       "\n",
       "[4 rows x 21 columns]"
      ]
     },
     "execution_count": 228,
     "metadata": {},
     "output_type": "execute_result"
    }
   ],
   "source": [
    "data.head(4)"
   ]
  },
  {
   "cell_type": "code",
   "execution_count": 230,
   "id": "d8264d12",
   "metadata": {},
   "outputs": [
    {
     "data": {
      "text/html": [
       "<div>\n",
       "<style scoped>\n",
       "    .dataframe tbody tr th:only-of-type {\n",
       "        vertical-align: middle;\n",
       "    }\n",
       "\n",
       "    .dataframe tbody tr th {\n",
       "        vertical-align: top;\n",
       "    }\n",
       "\n",
       "    .dataframe thead th {\n",
       "        text-align: right;\n",
       "    }\n",
       "</style>\n",
       "<table border=\"1\" class=\"dataframe\">\n",
       "  <thead>\n",
       "    <tr style=\"text-align: right;\">\n",
       "      <th></th>\n",
       "      <th>URL</th>\n",
       "      <th>Name/Alias</th>\n",
       "      <th>Appearances</th>\n",
       "      <th>Current?</th>\n",
       "      <th>Gender</th>\n",
       "      <th>Probationary Introl</th>\n",
       "      <th>Full/Reserve Avengers Intro</th>\n",
       "      <th>Year</th>\n",
       "      <th>Years since joining</th>\n",
       "      <th>Honorary</th>\n",
       "      <th>...</th>\n",
       "      <th>Return1</th>\n",
       "      <th>Death2</th>\n",
       "      <th>Return2</th>\n",
       "      <th>Death3</th>\n",
       "      <th>Return3</th>\n",
       "      <th>Death4</th>\n",
       "      <th>Return4</th>\n",
       "      <th>Death5</th>\n",
       "      <th>Return5</th>\n",
       "      <th>Notes</th>\n",
       "    </tr>\n",
       "  </thead>\n",
       "  <tbody>\n",
       "    <tr>\n",
       "      <th>169</th>\n",
       "      <td>http://marvel.wikia.com/Adam_Brashear_(Earth-6...</td>\n",
       "      <td>Adam Brashear</td>\n",
       "      <td>29</td>\n",
       "      <td>YES</td>\n",
       "      <td>MALE</td>\n",
       "      <td>NaN</td>\n",
       "      <td>14-Jan</td>\n",
       "      <td>2014</td>\n",
       "      <td>1</td>\n",
       "      <td>Full</td>\n",
       "      <td>...</td>\n",
       "      <td>NaN</td>\n",
       "      <td>NaN</td>\n",
       "      <td>NaN</td>\n",
       "      <td>NaN</td>\n",
       "      <td>NaN</td>\n",
       "      <td>NaN</td>\n",
       "      <td>NaN</td>\n",
       "      <td>NaN</td>\n",
       "      <td>NaN</td>\n",
       "      <td>NaN</td>\n",
       "    </tr>\n",
       "    <tr>\n",
       "      <th>170</th>\n",
       "      <td>http://marvel.wikia.com/Victor_Alvarez_(Earth-...</td>\n",
       "      <td>Victor Alvarez</td>\n",
       "      <td>45</td>\n",
       "      <td>YES</td>\n",
       "      <td>MALE</td>\n",
       "      <td>NaN</td>\n",
       "      <td>14-Jan</td>\n",
       "      <td>2014</td>\n",
       "      <td>1</td>\n",
       "      <td>Full</td>\n",
       "      <td>...</td>\n",
       "      <td>NaN</td>\n",
       "      <td>NaN</td>\n",
       "      <td>NaN</td>\n",
       "      <td>NaN</td>\n",
       "      <td>NaN</td>\n",
       "      <td>NaN</td>\n",
       "      <td>NaN</td>\n",
       "      <td>NaN</td>\n",
       "      <td>NaN</td>\n",
       "      <td>NaN</td>\n",
       "    </tr>\n",
       "    <tr>\n",
       "      <th>171</th>\n",
       "      <td>http://marvel.wikia.com/Ava_Ayala_(Earth-616)#</td>\n",
       "      <td>Ava Ayala</td>\n",
       "      <td>49</td>\n",
       "      <td>YES</td>\n",
       "      <td>FEMALE</td>\n",
       "      <td>NaN</td>\n",
       "      <td>14-Jan</td>\n",
       "      <td>2014</td>\n",
       "      <td>1</td>\n",
       "      <td>Full</td>\n",
       "      <td>...</td>\n",
       "      <td>NaN</td>\n",
       "      <td>NaN</td>\n",
       "      <td>NaN</td>\n",
       "      <td>NaN</td>\n",
       "      <td>NaN</td>\n",
       "      <td>NaN</td>\n",
       "      <td>NaN</td>\n",
       "      <td>NaN</td>\n",
       "      <td>NaN</td>\n",
       "      <td>NaN</td>\n",
       "    </tr>\n",
       "    <tr>\n",
       "      <th>172</th>\n",
       "      <td>http://marvel.wikia.com/Kaluu_(Earth-616)#</td>\n",
       "      <td>Kaluu</td>\n",
       "      <td>35</td>\n",
       "      <td>YES</td>\n",
       "      <td>MALE</td>\n",
       "      <td>NaN</td>\n",
       "      <td>15-Jan</td>\n",
       "      <td>2015</td>\n",
       "      <td>0</td>\n",
       "      <td>Full</td>\n",
       "      <td>...</td>\n",
       "      <td>NaN</td>\n",
       "      <td>NaN</td>\n",
       "      <td>NaN</td>\n",
       "      <td>NaN</td>\n",
       "      <td>NaN</td>\n",
       "      <td>NaN</td>\n",
       "      <td>NaN</td>\n",
       "      <td>NaN</td>\n",
       "      <td>NaN</td>\n",
       "      <td>NaN</td>\n",
       "    </tr>\n",
       "  </tbody>\n",
       "</table>\n",
       "<p>4 rows × 21 columns</p>\n",
       "</div>"
      ],
      "text/plain": [
       "                                                   URL      Name/Alias  \\\n",
       "169  http://marvel.wikia.com/Adam_Brashear_(Earth-6...   Adam Brashear   \n",
       "170  http://marvel.wikia.com/Victor_Alvarez_(Earth-...  Victor Alvarez   \n",
       "171     http://marvel.wikia.com/Ava_Ayala_(Earth-616)#       Ava Ayala   \n",
       "172         http://marvel.wikia.com/Kaluu_(Earth-616)#           Kaluu   \n",
       "\n",
       "     Appearances Current?  Gender Probationary Introl  \\\n",
       "169           29      YES    MALE                 NaN   \n",
       "170           45      YES    MALE                 NaN   \n",
       "171           49      YES  FEMALE                 NaN   \n",
       "172           35      YES    MALE                 NaN   \n",
       "\n",
       "    Full/Reserve Avengers Intro  Year  Years since joining Honorary  ...  \\\n",
       "169                      14-Jan  2014                    1     Full  ...   \n",
       "170                      14-Jan  2014                    1     Full  ...   \n",
       "171                      14-Jan  2014                    1     Full  ...   \n",
       "172                      15-Jan  2015                    0     Full  ...   \n",
       "\n",
       "    Return1 Death2 Return2 Death3 Return3 Death4 Return4 Death5 Return5 Notes  \n",
       "169     NaN    NaN     NaN    NaN     NaN    NaN     NaN    NaN     NaN   NaN  \n",
       "170     NaN    NaN     NaN    NaN     NaN    NaN     NaN    NaN     NaN   NaN  \n",
       "171     NaN    NaN     NaN    NaN     NaN    NaN     NaN    NaN     NaN   NaN  \n",
       "172     NaN    NaN     NaN    NaN     NaN    NaN     NaN    NaN     NaN   NaN  \n",
       "\n",
       "[4 rows x 21 columns]"
      ]
     },
     "execution_count": 230,
     "metadata": {},
     "output_type": "execute_result"
    }
   ],
   "source": [
    "data.tail(4)"
   ]
  },
  {
   "cell_type": "markdown",
   "id": "fe0876d4",
   "metadata": {},
   "source": [
    "As you can see, not all columns are visible. The `...` between the column *Honorary* and *Return1* indicates that there are more columns then shown. You can print a list of all the column with the following code:"
   ]
  },
  {
   "cell_type": "code",
   "execution_count": 231,
   "id": "04756443",
   "metadata": {},
   "outputs": [
    {
     "name": "stdout",
     "output_type": "stream",
     "text": [
      "['URL', 'Name/Alias', 'Appearances', 'Current?', 'Gender', 'Probationary Introl', 'Full/Reserve Avengers Intro', 'Year', 'Years since joining', 'Honorary', 'Death1', 'Return1', 'Death2', 'Return2', 'Death3', 'Return3', 'Death4', 'Return4', 'Death5', 'Return5', 'Notes']\n"
     ]
    }
   ],
   "source": [
    "print(data.columns.tolist())"
   ]
  },
  {
   "cell_type": "markdown",
   "id": "491e9644",
   "metadata": {},
   "source": [
    "We also see that there are some columns with categorial content, such as the *honorary* and *gender* columns. To see which categories are in there, we can print an array with the unique values. "
   ]
  },
  {
   "cell_type": "code",
   "execution_count": 232,
   "id": "78c519a7",
   "metadata": {},
   "outputs": [
    {
     "data": {
      "text/plain": [
       "array(['Full', 'Honorary', 'Probationary', 'Academy'], dtype=object)"
      ]
     },
     "execution_count": 232,
     "metadata": {},
     "output_type": "execute_result"
    }
   ],
   "source": [
    "data.Honorary.unique()"
   ]
  },
  {
   "cell_type": "code",
   "execution_count": 233,
   "id": "c67ccebf",
   "metadata": {},
   "outputs": [
    {
     "data": {
      "text/plain": [
       "array(['MALE', 'FEMALE'], dtype=object)"
      ]
     },
     "execution_count": 233,
     "metadata": {},
     "output_type": "execute_result"
    }
   ],
   "source": [
    "data.Gender.unique()"
   ]
  },
  {
   "cell_type": "markdown",
   "id": "7596dda3",
   "metadata": {},
   "source": [
    "Instead of unique(), you can also use the function nunique() to count the unique numbers of a column. So lets count how many unique URLs there are:\n"
   ]
  },
  {
   "cell_type": "code",
   "execution_count": 235,
   "id": "84927c33",
   "metadata": {},
   "outputs": [
    {
     "data": {
      "text/plain": [
       "173"
      ]
     },
     "execution_count": 235,
     "metadata": {},
     "output_type": "execute_result"
    }
   ],
   "source": [
    "data.URL.nunique()"
   ]
  },
  {
   "cell_type": "markdown",
   "id": "49c8531b",
   "metadata": {},
   "source": [
    "### Basic statistics"
   ]
  },
  {
   "cell_type": "markdown",
   "id": "9da702c8",
   "metadata": {},
   "source": [
    "We can use the pandas packages to do some basis statitics on our data.\n",
    "We can, for example:\n",
    "* Count the number of occurences per category,\n",
    "* Display the minimum and maximum values of numerical input\n",
    "* Calculate the mean, median and modus of numerical input\n",
    "\n",
    "This information can be used to get a better understanding of the data, but also for things like quality checks. \n",
    "\n",
    "We start with the function value_counts(). This functions counts for every unique item in a column how many times it appaears in the dataframe. The syntax is dataframe.columnname.value_counts(). \n",
    "\n",
    "We start with counting the number of males and females."
   ]
  },
  {
   "cell_type": "code",
   "execution_count": 213,
   "id": "702ff453",
   "metadata": {},
   "outputs": [
    {
     "data": {
      "text/plain": [
       "MALE      115\n",
       "FEMALE     58\n",
       "Name: Gender, dtype: int64"
      ]
     },
     "execution_count": 213,
     "metadata": {},
     "output_type": "execute_result"
    }
   ],
   "source": [
    "data.Gender.value_counts()"
   ]
  },
  {
   "cell_type": "markdown",
   "id": "bde74570",
   "metadata": {},
   "source": [
    "Then lets see how many avengers died at least once. "
   ]
  },
  {
   "cell_type": "code",
   "execution_count": 234,
   "id": "09128354",
   "metadata": {},
   "outputs": [
    {
     "data": {
      "text/plain": [
       "NO     104\n",
       "YES     69\n",
       "Name: Death1, dtype: int64"
      ]
     },
     "execution_count": 234,
     "metadata": {},
     "output_type": "execute_result"
    }
   ],
   "source": [
    "data.Death1.value_counts()"
   ]
  },
  {
   "cell_type": "markdown",
   "id": "bd4268d0",
   "metadata": {},
   "source": [
    "And how  many did return from the dead?"
   ]
  },
  {
   "cell_type": "code",
   "execution_count": 175,
   "id": "f5f01f39",
   "metadata": {},
   "outputs": [
    {
     "data": {
      "text/plain": [
       "YES    46\n",
       "NO     23\n",
       "Name: Return1, dtype: int64"
      ]
     },
     "execution_count": 175,
     "metadata": {},
     "output_type": "execute_result"
    }
   ],
   "source": [
    "data.Return1.value_counts()"
   ]
  },
  {
   "cell_type": "markdown",
   "id": "a3628ab6",
   "metadata": {},
   "source": [
    "Those who play close attention have likely noticed something strange in the results above. There are 173 entries in the database (NB: Python start counting from zero!). But 46+23 != 173. \n",
    "\n",
    "What happened to the rest? As you can see in the dataframe, there are a lot of NaN (not a number) values. The value_counts() functions ignores does function as default. If we want to also included the amount of NaN values, we need to explicitly tell the function to do so. We can do this bij setting the argument 'dropna' to False. "
   ]
  },
  {
   "cell_type": "code",
   "execution_count": 237,
   "id": "88598200",
   "metadata": {},
   "outputs": [
    {
     "data": {
      "text/plain": [
       "NaN    104\n",
       "YES     46\n",
       "NO      23\n",
       "Name: Return1, dtype: int64"
      ]
     },
     "execution_count": 237,
     "metadata": {},
     "output_type": "execute_result"
    }
   ],
   "source": [
    "data.Return1.value_counts(dropna=False)"
   ]
  },
  {
   "cell_type": "markdown",
   "id": "ee78adae",
   "metadata": {},
   "source": [
    "Apart from basic counting, we can also use Pythons inbuilt min() en max() functions to determine the minimum en maximum values of a column. \n",
    "\n",
    "We can use this to see in which year the first avenger joined:"
   ]
  },
  {
   "cell_type": "code",
   "execution_count": 250,
   "id": "bea95e61",
   "metadata": {},
   "outputs": [
    {
     "data": {
      "text/plain": [
       "1900"
      ]
     },
     "execution_count": 250,
     "metadata": {},
     "output_type": "execute_result"
    }
   ],
   "source": [
    "min(data.Year)"
   ]
  },
  {
   "cell_type": "markdown",
   "id": "032aaebf",
   "metadata": {},
   "source": [
    "And in which year the last:"
   ]
  },
  {
   "cell_type": "code",
   "execution_count": 251,
   "id": "b9d8c34c",
   "metadata": {},
   "outputs": [
    {
     "data": {
      "text/plain": [
       "2015"
      ]
     },
     "execution_count": 251,
     "metadata": {},
     "output_type": "execute_result"
    }
   ],
   "source": [
    "max(data.Year)"
   ]
  },
  {
   "cell_type": "markdown",
   "id": "3e9bb5e4",
   "metadata": {},
   "source": [
    "In the examples above, the syntax for calling a column was as follows: `dataframe.columname`. <br>\n",
    "This works fine as long as the columnname doesn't have any spaces or symbols. However, for columns such as 'Name/Alias' and 'Years since joining', this syntax results in an error. "
   ]
  },
  {
   "cell_type": "code",
   "execution_count": 252,
   "id": "f6490a78",
   "metadata": {},
   "outputs": [
    {
     "ename": "SyntaxError",
     "evalue": "invalid syntax (2228882314.py, line 1)",
     "output_type": "error",
     "traceback": [
      "\u001b[1;36m  Input \u001b[1;32mIn [252]\u001b[1;36m\u001b[0m\n\u001b[1;33m    min(data.Years since joining)\u001b[0m\n\u001b[1;37m                   ^\u001b[0m\n\u001b[1;31mSyntaxError\u001b[0m\u001b[1;31m:\u001b[0m invalid syntax\n"
     ]
    }
   ],
   "source": [
    "min(data.Years since joining)"
   ]
  },
  {
   "cell_type": "markdown",
   "id": "67d963a8",
   "metadata": {},
   "source": [
    "Therefore, there is another syntax that can be used to ommit this problem. This is simply by removing the dot and putting the column name in squared brackets and quotes: `dataframe['columnname']"
   ]
  },
  {
   "cell_type": "code",
   "execution_count": 253,
   "id": "1db3a008",
   "metadata": {},
   "outputs": [
    {
     "data": {
      "text/plain": [
       "0"
      ]
     },
     "execution_count": 253,
     "metadata": {},
     "output_type": "execute_result"
    }
   ],
   "source": [
    "min(data['Years since joining'])"
   ]
  },
  {
   "cell_type": "markdown",
   "id": "29403da6",
   "metadata": {},
   "source": [
    "This version can be used on all columns, as you can see in the example below. "
   ]
  },
  {
   "cell_type": "code",
   "execution_count": 254,
   "id": "07b6b6f2",
   "metadata": {},
   "outputs": [
    {
     "data": {
      "text/plain": [
       "1900"
      ]
     },
     "execution_count": 254,
     "metadata": {},
     "output_type": "execute_result"
    }
   ],
   "source": [
    "min(data['Year'])"
   ]
  },
  {
   "cell_type": "markdown",
   "id": "c4e9b4b1",
   "metadata": {},
   "source": [
    "If you want the full range of statistics for pandas for a column, you can use the function describe(). "
   ]
  },
  {
   "cell_type": "code",
   "execution_count": 248,
   "id": "2722ca0f",
   "metadata": {},
   "outputs": [
    {
     "data": {
      "text/plain": [
       "count    173.000000\n",
       "mean      26.554913\n",
       "std       30.374669\n",
       "min        0.000000\n",
       "25%        5.000000\n",
       "50%       19.000000\n",
       "75%       36.000000\n",
       "max      115.000000\n",
       "Name: Years since joining, dtype: float64"
      ]
     },
     "execution_count": 248,
     "metadata": {},
     "output_type": "execute_result"
    }
   ],
   "source": [
    "data['Years since joining'].describe()"
   ]
  },
  {
   "cell_type": "markdown",
   "id": "e49b3e29",
   "metadata": {},
   "source": [
    "### The groupby() function\n",
    "\n",
    "Another way of inspecting your dataframe is by using the groupby() function to combine and summarize your data. It can split the records from your data into different categories and groups, thereby offering flexibility in analyzing your data. \n",
    "\n",
    "Lets start with the function value_counts(), which we used above. "
   ]
  },
  {
   "cell_type": "code",
   "execution_count": 238,
   "id": "8d41c081",
   "metadata": {},
   "outputs": [
    {
     "data": {
      "text/plain": [
       "MALE      115\n",
       "FEMALE     58\n",
       "Name: Gender, dtype: int64"
      ]
     },
     "execution_count": 238,
     "metadata": {},
     "output_type": "execute_result"
    }
   ],
   "source": [
    "data.Gender.value_counts()"
   ]
  },
  {
   "cell_type": "markdown",
   "id": "26087311",
   "metadata": {},
   "source": [
    "We can provide the same result with the groupby() function. \n",
    "\n",
    "The most basic groupby() command to count the number of avengers per gender is as follows:"
   ]
  },
  {
   "cell_type": "code",
   "execution_count": 187,
   "id": "7a25761b",
   "metadata": {},
   "outputs": [
    {
     "data": {
      "text/html": [
       "<div>\n",
       "<style scoped>\n",
       "    .dataframe tbody tr th:only-of-type {\n",
       "        vertical-align: middle;\n",
       "    }\n",
       "\n",
       "    .dataframe tbody tr th {\n",
       "        vertical-align: top;\n",
       "    }\n",
       "\n",
       "    .dataframe thead th {\n",
       "        text-align: right;\n",
       "    }\n",
       "</style>\n",
       "<table border=\"1\" class=\"dataframe\">\n",
       "  <thead>\n",
       "    <tr style=\"text-align: right;\">\n",
       "      <th></th>\n",
       "      <th>URL</th>\n",
       "      <th>Name/Alias</th>\n",
       "      <th>Appearances</th>\n",
       "      <th>Current?</th>\n",
       "      <th>Probationary Introl</th>\n",
       "      <th>Full/Reserve Avengers Intro</th>\n",
       "      <th>Year</th>\n",
       "      <th>Years since joining</th>\n",
       "      <th>Honorary</th>\n",
       "      <th>Death1</th>\n",
       "      <th>Return1</th>\n",
       "      <th>Death2</th>\n",
       "      <th>Return2</th>\n",
       "      <th>Death3</th>\n",
       "      <th>Return3</th>\n",
       "      <th>Death4</th>\n",
       "      <th>Return4</th>\n",
       "      <th>Death5</th>\n",
       "      <th>Return5</th>\n",
       "      <th>Notes</th>\n",
       "    </tr>\n",
       "    <tr>\n",
       "      <th>Gender</th>\n",
       "      <th></th>\n",
       "      <th></th>\n",
       "      <th></th>\n",
       "      <th></th>\n",
       "      <th></th>\n",
       "      <th></th>\n",
       "      <th></th>\n",
       "      <th></th>\n",
       "      <th></th>\n",
       "      <th></th>\n",
       "      <th></th>\n",
       "      <th></th>\n",
       "      <th></th>\n",
       "      <th></th>\n",
       "      <th></th>\n",
       "      <th></th>\n",
       "      <th></th>\n",
       "      <th></th>\n",
       "      <th></th>\n",
       "      <th></th>\n",
       "    </tr>\n",
       "  </thead>\n",
       "  <tbody>\n",
       "    <tr>\n",
       "      <th>FEMALE</th>\n",
       "      <td>58</td>\n",
       "      <td>58</td>\n",
       "      <td>58</td>\n",
       "      <td>58</td>\n",
       "      <td>6</td>\n",
       "      <td>51</td>\n",
       "      <td>58</td>\n",
       "      <td>58</td>\n",
       "      <td>58</td>\n",
       "      <td>58</td>\n",
       "      <td>21</td>\n",
       "      <td>6</td>\n",
       "      <td>6</td>\n",
       "      <td>1</td>\n",
       "      <td>1</td>\n",
       "      <td>1</td>\n",
       "      <td>1</td>\n",
       "      <td>1</td>\n",
       "      <td>1</td>\n",
       "      <td>22</td>\n",
       "    </tr>\n",
       "    <tr>\n",
       "      <th>MALE</th>\n",
       "      <td>115</td>\n",
       "      <td>115</td>\n",
       "      <td>115</td>\n",
       "      <td>115</td>\n",
       "      <td>9</td>\n",
       "      <td>108</td>\n",
       "      <td>115</td>\n",
       "      <td>115</td>\n",
       "      <td>115</td>\n",
       "      <td>115</td>\n",
       "      <td>48</td>\n",
       "      <td>11</td>\n",
       "      <td>10</td>\n",
       "      <td>1</td>\n",
       "      <td>1</td>\n",
       "      <td>0</td>\n",
       "      <td>0</td>\n",
       "      <td>0</td>\n",
       "      <td>0</td>\n",
       "      <td>53</td>\n",
       "    </tr>\n",
       "  </tbody>\n",
       "</table>\n",
       "</div>"
      ],
      "text/plain": [
       "        URL  Name/Alias  Appearances  Current?  Probationary Introl  \\\n",
       "Gender                                                                \n",
       "FEMALE   58          58           58        58                    6   \n",
       "MALE    115         115          115       115                    9   \n",
       "\n",
       "        Full/Reserve Avengers Intro  Year  Years since joining  Honorary  \\\n",
       "Gender                                                                     \n",
       "FEMALE                           51    58                   58        58   \n",
       "MALE                            108   115                  115       115   \n",
       "\n",
       "        Death1  Return1  Death2  Return2  Death3  Return3  Death4  Return4  \\\n",
       "Gender                                                                       \n",
       "FEMALE      58       21       6        6       1        1       1        1   \n",
       "MALE       115       48      11       10       1        1       0        0   \n",
       "\n",
       "        Death5  Return5  Notes  \n",
       "Gender                          \n",
       "FEMALE       1        1     22  \n",
       "MALE         0        0     53  "
      ]
     },
     "execution_count": 187,
     "metadata": {},
     "output_type": "execute_result"
    }
   ],
   "source": [
    "data.groupby('Gender').count()"
   ]
  },
  {
   "cell_type": "markdown",
   "id": "170dc667",
   "metadata": {},
   "source": [
    "As you can see, there is a lot of output and not all the numbers are the same. This is because the groupby() function counts the entries per column. NaN values are not counted. \n",
    "\n",
    "If we want to count the gender of all avengers, this means we need to use the counts from a column in which al entries are filled. As you can see, the column *Name/Alias* has a total of 173, so we can use the counts from this column. \n",
    "\n",
    "To create a cleare output, we return only the counts of the specified column:"
   ]
  },
  {
   "cell_type": "code",
   "execution_count": 239,
   "id": "298de1e4",
   "metadata": {},
   "outputs": [
    {
     "data": {
      "text/plain": [
       "Gender\n",
       "FEMALE     58\n",
       "MALE      115\n",
       "Name: Name/Alias, dtype: int64"
      ]
     },
     "execution_count": 239,
     "metadata": {},
     "output_type": "execute_result"
    }
   ],
   "source": [
    "data.groupby('Gender')['Name/Alias'].count()"
   ]
  },
  {
   "cell_type": "markdown",
   "id": "8dfed267",
   "metadata": {},
   "source": [
    "But why should we use groupby() if we can also  use value_counts(). \n",
    "\n",
    "The reason for this, is that groupby() can me used for more than only counting the values of one category.\n",
    "Say that we want to split the count between gender ánd honorary. Groupby() can do this for us. "
   ]
  },
  {
   "cell_type": "code",
   "execution_count": 241,
   "id": "0db5cb9f",
   "metadata": {},
   "outputs": [
    {
     "data": {
      "text/plain": [
       "Gender  Honorary    \n",
       "FEMALE  Academy          9\n",
       "        Full            43\n",
       "        Honorary         6\n",
       "MALE    Academy          8\n",
       "        Full            95\n",
       "        Honorary        10\n",
       "        Probationary     2\n",
       "Name: Name/Alias, dtype: int64"
      ]
     },
     "execution_count": 241,
     "metadata": {},
     "output_type": "execute_result"
    }
   ],
   "source": [
    "data.groupby(['Gender', 'Honorary'])['Name/Alias'].count()"
   ]
  },
  {
   "cell_type": "markdown",
   "id": "92da5bb0",
   "metadata": {},
   "source": [
    "And apart from just counting, we can also look at statistics such as the mean and the median. "
   ]
  },
  {
   "cell_type": "code",
   "execution_count": 242,
   "id": "b5accbfd",
   "metadata": {},
   "outputs": [
    {
     "data": {
      "text/html": [
       "<div>\n",
       "<style scoped>\n",
       "    .dataframe tbody tr th:only-of-type {\n",
       "        vertical-align: middle;\n",
       "    }\n",
       "\n",
       "    .dataframe tbody tr th {\n",
       "        vertical-align: top;\n",
       "    }\n",
       "\n",
       "    .dataframe thead th {\n",
       "        text-align: right;\n",
       "    }\n",
       "</style>\n",
       "<table border=\"1\" class=\"dataframe\">\n",
       "  <thead>\n",
       "    <tr style=\"text-align: right;\">\n",
       "      <th></th>\n",
       "      <th>Appearances</th>\n",
       "      <th>Year</th>\n",
       "      <th>Years since joining</th>\n",
       "    </tr>\n",
       "    <tr>\n",
       "      <th>Gender</th>\n",
       "      <th></th>\n",
       "      <th></th>\n",
       "      <th></th>\n",
       "    </tr>\n",
       "  </thead>\n",
       "  <tbody>\n",
       "    <tr>\n",
       "      <th>FEMALE</th>\n",
       "      <td>263.327586</td>\n",
       "      <td>1984.379310</td>\n",
       "      <td>30.620690</td>\n",
       "    </tr>\n",
       "    <tr>\n",
       "      <th>MALE</th>\n",
       "      <td>490.069565</td>\n",
       "      <td>1990.495652</td>\n",
       "      <td>24.504348</td>\n",
       "    </tr>\n",
       "  </tbody>\n",
       "</table>\n",
       "</div>"
      ],
      "text/plain": [
       "        Appearances         Year  Years since joining\n",
       "Gender                                               \n",
       "FEMALE   263.327586  1984.379310            30.620690\n",
       "MALE     490.069565  1990.495652            24.504348"
      ]
     },
     "execution_count": 242,
     "metadata": {},
     "output_type": "execute_result"
    }
   ],
   "source": [
    "data.groupby(['Gender']).mean()"
   ]
  },
  {
   "cell_type": "code",
   "execution_count": 243,
   "id": "17a17160",
   "metadata": {},
   "outputs": [
    {
     "data": {
      "text/html": [
       "<div>\n",
       "<style scoped>\n",
       "    .dataframe tbody tr th:only-of-type {\n",
       "        vertical-align: middle;\n",
       "    }\n",
       "\n",
       "    .dataframe tbody tr th {\n",
       "        vertical-align: top;\n",
       "    }\n",
       "\n",
       "    .dataframe thead th {\n",
       "        text-align: right;\n",
       "    }\n",
       "</style>\n",
       "<table border=\"1\" class=\"dataframe\">\n",
       "  <thead>\n",
       "    <tr style=\"text-align: right;\">\n",
       "      <th></th>\n",
       "      <th>Appearances</th>\n",
       "      <th>Year</th>\n",
       "      <th>Years since joining</th>\n",
       "    </tr>\n",
       "    <tr>\n",
       "      <th>Gender</th>\n",
       "      <th></th>\n",
       "      <th></th>\n",
       "      <th></th>\n",
       "    </tr>\n",
       "  </thead>\n",
       "  <tbody>\n",
       "    <tr>\n",
       "      <th>FEMALE</th>\n",
       "      <td>101.0</td>\n",
       "      <td>1992.5</td>\n",
       "      <td>22.5</td>\n",
       "    </tr>\n",
       "    <tr>\n",
       "      <th>MALE</th>\n",
       "      <td>156.0</td>\n",
       "      <td>2001.0</td>\n",
       "      <td>14.0</td>\n",
       "    </tr>\n",
       "  </tbody>\n",
       "</table>\n",
       "</div>"
      ],
      "text/plain": [
       "        Appearances    Year  Years since joining\n",
       "Gender                                          \n",
       "FEMALE        101.0  1992.5                 22.5\n",
       "MALE          156.0  2001.0                 14.0"
      ]
     },
     "execution_count": 243,
     "metadata": {},
     "output_type": "execute_result"
    }
   ],
   "source": [
    "data.groupby(['Gender']).median()"
   ]
  },
  {
   "cell_type": "markdown",
   "id": "08528161",
   "metadata": {},
   "source": [
    "## Visualisations\n",
    "\n",
    "The output from value_counts and groupby() can also be displayed in graphs. Here are some examples. "
   ]
  },
  {
   "cell_type": "code",
   "execution_count": 198,
   "id": "72ca87dc",
   "metadata": {},
   "outputs": [
    {
     "data": {
      "text/plain": [
       "<AxesSubplot:>"
      ]
     },
     "execution_count": 198,
     "metadata": {},
     "output_type": "execute_result"
    },
    {
     "data": {
      "image/png": "[encoded data removed]",
      "text/plain": [
       "<Figure size 432x288 with 1 Axes>"
      ]
     },
     "metadata": {
      "needs_background": "light"
     },
     "output_type": "display_data"
    }
   ],
   "source": [
    "gender = data.Gender.value_counts()\n",
    "gender.plot(kind = 'bar')"
   ]
  },
  {
   "cell_type": "code",
   "execution_count": 199,
   "id": "a24ce283",
   "metadata": {},
   "outputs": [
    {
     "data": {
      "text/plain": [
       "<AxesSubplot:ylabel='Gender'>"
      ]
     },
     "execution_count": 199,
     "metadata": {},
     "output_type": "execute_result"
    },
    {
     "data": {
      "image/png": "[encoded data removed]",
      "text/plain": [
       "<Figure size 432x288 with 1 Axes>"
      ]
     },
     "metadata": {},
     "output_type": "display_data"
    }
   ],
   "source": [
    "gender = data.Gender.value_counts()\n",
    "gender.plot(kind = 'pie')"
   ]
  },
  {
   "cell_type": "code",
   "execution_count": 200,
   "id": "e30c12d9",
   "metadata": {},
   "outputs": [
    {
     "data": {
      "text/plain": [
       "<AxesSubplot:>"
      ]
     },
     "execution_count": 200,
     "metadata": {},
     "output_type": "execute_result"
    },
    {
     "data": {
      "image/png": "[encoded data removed]",
      "text/plain": [
       "<Figure size 432x288 with 1 Axes>"
      ]
     },
     "metadata": {
      "needs_background": "light"
     },
     "output_type": "display_data"
    }
   ],
   "source": [
    "death1 = data.Death1.value_counts()\n",
    "death1.plot(kind = 'bar')"
   ]
  },
  {
   "cell_type": "code",
   "execution_count": 201,
   "id": "10bbe89a",
   "metadata": {},
   "outputs": [],
   "source": [
    "year_since = data.groupby('Years since joining')['Name/Alias'].count().reset_index()"
   ]
  },
  {
   "cell_type": "code",
   "execution_count": 202,
   "id": "cee5c69b",
   "metadata": {},
   "outputs": [
    {
     "data": {
      "text/plain": [
       "<AxesSubplot:xlabel='Years since joining'>"
      ]
     },
     "execution_count": 202,
     "metadata": {},
     "output_type": "execute_result"
    },
    {
     "data": {
      "image/png": "[encoded data removed]",
      "text/plain": [
       "<Figure size 1440x720 with 1 Axes>"
      ]
     },
     "metadata": {
      "needs_background": "light"
     },
     "output_type": "display_data"
    }
   ],
   "source": [
    "year_since.plot(kind = 'bar', x = 'Years since joining', y = 'Name/Alias', figsize = (20,10))"
   ]
  },
  {
   "cell_type": "code",
   "execution_count": 122,
   "id": "f53ff4f0",
   "metadata": {},
   "outputs": [],
   "source": [
    "year = data.groupby('Year')['Name/Alias'].count().reset_index()"
   ]
  },
  {
   "cell_type": "code",
   "execution_count": 124,
   "id": "c7be5d1a",
   "metadata": {},
   "outputs": [
    {
     "data": {
      "text/plain": [
       "<AxesSubplot:xlabel='Year'>"
      ]
     },
     "execution_count": 124,
     "metadata": {},
     "output_type": "execute_result"
    },
    {
     "data": {
      "image/png": "[encoded data removed]",
      "text/plain": [
       "<Figure size 1440x720 with 1 Axes>"
      ]
     },
     "metadata": {
      "needs_background": "light"
     },
     "output_type": "display_data"
    }
   ],
   "source": [
    "year.plot(kind = 'bar', x = 'Year', y = 'Name/Alias', figsize = (20,10))"
   ]
  },
  {
   "cell_type": "markdown",
   "id": "bb468dea",
   "metadata": {},
   "source": [
    "# Dataframe filteren"
   ]
  },
  {
   "cell_type": "markdown",
   "id": "4d367350",
   "metadata": {},
   "source": [
    "You can also filter a dataframe to create subframes or find specific information. "
   ]
  },
  {
   "cell_type": "code",
   "execution_count": 139,
   "id": "a07d448f",
   "metadata": {},
   "outputs": [
    {
     "data": {
      "text/plain": [
       "YES    2\n",
       "Name: Death3, dtype: int64"
      ]
     },
     "execution_count": 139,
     "metadata": {},
     "output_type": "execute_result"
    }
   ],
   "source": [
    "data.Death3.value_counts()"
   ]
  },
  {
   "cell_type": "code",
   "execution_count": 140,
   "id": "ab3bb647",
   "metadata": {},
   "outputs": [
    {
     "data": {
      "text/html": [
       "<div>\n",
       "<style scoped>\n",
       "    .dataframe tbody tr th:only-of-type {\n",
       "        vertical-align: middle;\n",
       "    }\n",
       "\n",
       "    .dataframe tbody tr th {\n",
       "        vertical-align: top;\n",
       "    }\n",
       "\n",
       "    .dataframe thead th {\n",
       "        text-align: right;\n",
       "    }\n",
       "</style>\n",
       "<table border=\"1\" class=\"dataframe\">\n",
       "  <thead>\n",
       "    <tr style=\"text-align: right;\">\n",
       "      <th></th>\n",
       "      <th>URL</th>\n",
       "      <th>Name/Alias</th>\n",
       "      <th>Appearances</th>\n",
       "      <th>Current?</th>\n",
       "      <th>Gender</th>\n",
       "      <th>Probationary Introl</th>\n",
       "      <th>Full/Reserve Avengers Intro</th>\n",
       "      <th>Year</th>\n",
       "      <th>Years since joining</th>\n",
       "      <th>Honorary</th>\n",
       "      <th>...</th>\n",
       "      <th>Return1</th>\n",
       "      <th>Death2</th>\n",
       "      <th>Return2</th>\n",
       "      <th>Death3</th>\n",
       "      <th>Return3</th>\n",
       "      <th>Death4</th>\n",
       "      <th>Return4</th>\n",
       "      <th>Death5</th>\n",
       "      <th>Return5</th>\n",
       "      <th>Notes</th>\n",
       "    </tr>\n",
       "  </thead>\n",
       "  <tbody>\n",
       "    <tr>\n",
       "      <th>29</th>\n",
       "      <td>http://marvel.wikia.com/Mar-Vell_(Earth-616)#</td>\n",
       "      <td>Mar-Vell</td>\n",
       "      <td>254</td>\n",
       "      <td>NO</td>\n",
       "      <td>MALE</td>\n",
       "      <td>NaN</td>\n",
       "      <td>Jul-78</td>\n",
       "      <td>1978</td>\n",
       "      <td>37</td>\n",
       "      <td>Full</td>\n",
       "      <td>...</td>\n",
       "      <td>YES</td>\n",
       "      <td>YES</td>\n",
       "      <td>YES</td>\n",
       "      <td>YES</td>\n",
       "      <td>NO</td>\n",
       "      <td>NaN</td>\n",
       "      <td>NaN</td>\n",
       "      <td>NaN</td>\n",
       "      <td>NaN</td>\n",
       "      <td>The bad penny of the Marvel universe. First ki...</td>\n",
       "    </tr>\n",
       "    <tr>\n",
       "      <th>32</th>\n",
       "      <td>http://marvel.wikia.com/Jocasta_(Earth-616)#</td>\n",
       "      <td>Jocasta</td>\n",
       "      <td>141</td>\n",
       "      <td>YES</td>\n",
       "      <td>FEMALE</td>\n",
       "      <td>Jul-80</td>\n",
       "      <td>Nov-88</td>\n",
       "      <td>1988</td>\n",
       "      <td>27</td>\n",
       "      <td>Full</td>\n",
       "      <td>...</td>\n",
       "      <td>YES</td>\n",
       "      <td>YES</td>\n",
       "      <td>YES</td>\n",
       "      <td>YES</td>\n",
       "      <td>YES</td>\n",
       "      <td>YES</td>\n",
       "      <td>YES</td>\n",
       "      <td>YES</td>\n",
       "      <td>YES</td>\n",
       "      <td>From her article: Death1: \"Defeated Ultron and...</td>\n",
       "    </tr>\n",
       "  </tbody>\n",
       "</table>\n",
       "<p>2 rows × 21 columns</p>\n",
       "</div>"
      ],
      "text/plain": [
       "                                              URL Name/Alias  Appearances  \\\n",
       "29  http://marvel.wikia.com/Mar-Vell_(Earth-616)#   Mar-Vell          254   \n",
       "32   http://marvel.wikia.com/Jocasta_(Earth-616)#    Jocasta          141   \n",
       "\n",
       "   Current?  Gender Probationary Introl Full/Reserve Avengers Intro  Year  \\\n",
       "29       NO    MALE                 NaN                      Jul-78  1978   \n",
       "32      YES  FEMALE              Jul-80                      Nov-88  1988   \n",
       "\n",
       "    Years since joining Honorary  ... Return1 Death2 Return2 Death3 Return3  \\\n",
       "29                   37     Full  ...     YES    YES     YES    YES      NO   \n",
       "32                   27     Full  ...     YES    YES     YES    YES     YES   \n",
       "\n",
       "   Death4 Return4 Death5 Return5  \\\n",
       "29    NaN     NaN    NaN     NaN   \n",
       "32    YES     YES    YES     YES   \n",
       "\n",
       "                                                Notes  \n",
       "29  The bad penny of the Marvel universe. First ki...  \n",
       "32  From her article: Death1: \"Defeated Ultron and...  \n",
       "\n",
       "[2 rows x 21 columns]"
      ]
     },
     "execution_count": 140,
     "metadata": {},
     "output_type": "execute_result"
    }
   ],
   "source": [
    "data[data['Death3'] ==  \"YES\"]"
   ]
  },
  {
   "cell_type": "markdown",
   "id": "7367a815",
   "metadata": {},
   "source": [
    "**Exercise**\n",
    "\n",
    "Beantwoord de volgende vragen met behulp van de opgedane kennis over pandas:\n",
    "* Welke avenger is als eerste bij de avenger gekomen? \n",
    "* Welke avenger heeft de meeste appearances? \n",
    "* Welke avenger heeft de minste appaerances?\n",
    "* Welke avenger is 5x overleden?\n",
    "* Which honorary has the highest mean appareances?\n",
    "* Which honoaray has the lowest median of years since joining?\n",
    "* Toon in een grafiek????"
   ]
  }
 ],
 "metadata": {
  "kernelspec": {
   "display_name": "Python 3 (ipykernel)",
   "language": "python",
   "name": "python3"
  },
  "language_info": {
   "codemirror_mode": {
    "name": "ipython",
    "version": 3
   },
   "file_extension": ".py",
   "mimetype": "text/x-python",
   "name": "python",
   "nbconvert_exporter": "python",
   "pygments_lexer": "ipython3",
   "version": "3.9.12"
  }
 },
 "nbformat": 4,
 "nbformat_minor": 5
}
